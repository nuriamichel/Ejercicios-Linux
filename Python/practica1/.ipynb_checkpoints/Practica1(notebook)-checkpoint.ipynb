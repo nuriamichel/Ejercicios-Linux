{
 "cells": [
  {
   "cell_type": "markdown",
   "metadata": {},
   "source": [
    "Estudiante: Nuria Luisa Michel Limachi                                                           Còdigo:44929\n",
    " \n",
    "Practica 1"
   ]
  },
  {
   "cell_type": "markdown",
   "metadata": {},
   "source": [
    "1. Escriba un programa que lea un entero (input), lo multiplique por 3 y lo imprima"
   ]
  },
  {
   "cell_type": "code",
   "execution_count": 3,
   "metadata": {},
   "outputs": [
    {
     "name": "stdout",
     "output_type": "stream",
     "text": [
      "Introduzca un numero entero: 3\n",
      "9\n"
     ]
    }
   ],
   "source": [
    "numero = int(input('Introduzca un numero entero: ')) \n",
    "print(3 * numero)"
   ]
  },
  {
   "cell_type": "markdown",
   "metadata": {},
   "source": [
    "2. Escribir un programa que pida al cliente la longitud y ancho de la habitación e\n",
    "imprima la superficie de la habitación, los valores podrán tener decimales.\n",
    "Formato de salida deseado: xx.yy m^2"
   ]
  },
  {
   "cell_type": "code",
   "execution_count": 8,
   "metadata": {},
   "outputs": [
    {
     "name": "stdout",
     "output_type": "stream",
     "text": [
      "Introduzca la longitud de la habitacion: 5\n",
      "Introduzaca el ancho de la habitacion: 5\n",
      "25.0 m^2\n"
     ]
    }
   ],
   "source": [
    "longitud = float(input('Introduzca la longitud de la habitacion: '))\n",
    "ancho = float(input('Introduzaca el ancho de la habitacion: '))\n",
    "print(round (ancho * longitud, 2) , \"m^2\")"
   ]
  },
  {
   "cell_type": "markdown",
   "metadata": {},
   "source": [
    "3. Determinar el área y volumen de un cilindro cuyas dimensiones (radio - altura) se lean\n",
    "desde el teclado.\n",
    "Formato de salida deseado: xx.yy m^3"
   ]
  },
  {
   "cell_type": "code",
   "execution_count": 23,
   "metadata": {},
   "outputs": [
    {
     "name": "stdout",
     "output_type": "stream",
     "text": [
      "Radio del cilindro: 5.5\n",
      "Altura del cilindro: 4.3\n",
      "Area: 95.03 m^2\n",
      "Volumen: 408.64 m^3\n"
     ]
    }
   ],
   "source": [
    "import math\n",
    "radio = float(input('Radio del cilindro: ')) \n",
    "altura = float(input('Altura del cilindro: ')) \n",
    "print(\"Area:\",round (math.pi * radio**2 , 2) , \"m^2\") \n",
    "print(\"Volumen:\",round (math.pi * radio**2 * altura, 2) , \"m^3\")"
   ]
  },
  {
   "cell_type": "markdown",
   "metadata": {},
   "source": [
    "4. La fuerza de atracción entre dos masas m1 y m2 separadas por una distancia d, está dada por la fórmula: F= (Gm1m2)/d^2 Donde G es la constante de gravitación universal: G=6.67310^-8cm^3/gseg^2 Escriba un programa que lea la masa de dos cuerpos y la distancia entre ellos y a continuación obtenga la fuerza gravitacional entre ella. La salida debe ser en dinas; un DINA es igual a g*cm/seg^2 Formato de salida deseado: xx.yy dyn"
   ]
  },
  {
   "cell_type": "code",
   "execution_count": 22,
   "metadata": {},
   "outputs": [
    {
     "name": "stdout",
     "output_type": "stream",
     "text": [
      "masa1 en gramos: 43\n",
      "masa2 en gramos: 43\n",
      "distancia entre masas en centimetros: 4\n",
      "Fuerza gravitacional: 7.711485625e-06 dyn\n"
     ]
    }
   ],
   "source": [
    "m1 = float(input('masa1 en gramos: ')) \n",
    "m2 = float(input('masa2 en gramos: ')) \n",
    "d = float(input('distancia entre masas en centimetros: '))\n",
    "g = 6.673 * 10**-8\n",
    "print(\"Fuerza gravitacional:\",((g * m1 * m2)/ d**2) , \"dyn\")\n"
   ]
  },
  {
   "cell_type": "markdown",
   "metadata": {},
   "source": [
    "5. La famosa ecuación de Einstein para conversión de una masa m en energía viene dada por la fórmula: E=cm^3 c=2.997925*10^10 m/s es la velocidad Escribir un programa que lea una masa en gramos y obtenga la cantidad de energía producida cuando la masa se convierta en energía. Nota: se la masa se da en gramos, la fórmula produce la energía en ergios. Formato de salida deseado: xx.yy erg "
   ]
  },
  {
   "cell_type": "code",
   "execution_count": 24,
   "metadata": {},
   "outputs": [
    {
     "name": "stdout",
     "output_type": "stream",
     "text": [
      "masa en gramos: 13\n",
      "65864412250000.0 erg\n"
     ]
    }
   ],
   "source": [
    "m = float(input('masa en gramos: ')) \n",
    "c= 2.997925*10**10\n",
    "print(c * m**3  , \"erg\")"
   ]
  },
  {
   "cell_type": "markdown",
   "metadata": {},
   "source": [
    "6. Escribir un programa que lea la hora en un día de notación 24 horas y escriba la respuesta en notación de 12 horas. Por ejemplo, si la entrada es 13:45, la salida será: 1:45 PM El programa pedirá al usuario que introduzca exactamente cinco caracteres. Así, por ejemplo, las nueve en punto se introduce como: 09:00"
   ]
  },
  {
   "cell_type": "code",
   "execution_count": 53,
   "metadata": {},
   "outputs": [
    {
     "name": "stdout",
     "output_type": "stream",
     "text": [
      "Introduzca hora: 12\n",
      "Introduzca los minutos: 45\n",
      "12 : 45\n"
     ]
    }
   ],
   "source": [
    "hora = int(input (\"Introduzca hora: \"))\n",
    "minutos= int(input(\"Introduzca los minutos: \"))\n",
    "if (hora <= 12) :\n",
    "    print (hora,\":\",minutos)\n",
    "else:\n",
    "    print (hora-12,\":\",minutos)"
   ]
  },
  {
   "cell_type": "markdown",
   "metadata": {},
   "source": [
    "7.Leer un número A, evaluar sucesivamente las expresiones siguientes y desplegar los resultados obtenidos en un archivo denominado “practica01.out”. B = A + 10 C = 2 * B + A D = A + B + C + 5 Formato de salida deseado: Ejercicio 9. A = xx B = yy C = zz D = xyz"
   ]
  },
  {
   "cell_type": "code",
   "execution_count": 54,
   "metadata": {},
   "outputs": [
    {
     "name": "stdout",
     "output_type": "stream",
     "text": [
      "Inserte un entero: 13\n"
     ]
    }
   ],
   "source": [
    "A = int(input('Introduzca un entero: ')) \n",
    "B = A + 10\n",
    "C = 2 * B + A\n",
    "D = A + B + C + 5\n",
    "print(\"Ejercicio 9.\\nA = \", A , \"\\nB = \", B ,\"\\nC = \", C ,\"\\nD = \", D, file=open(\"practica01.out\",\"w\"))"
   ]
  },
  {
   "cell_type": "markdown",
   "metadata": {},
   "source": [
    "8. Hacer leer un número X de tipo decimal, hallar su valor absoluto y decimal, desplegar\n",
    "el resultado dentro del archivo “practica01.out”.\n",
    "Formato de salida deseado:\n",
    "Ejercicio 8.\n",
    "Número: xx.yy\n",
    "Valor absoluto: xx\n",
    "Parte decimal: yy"
   ]
  },
  {
   "cell_type": "code",
   "execution_count": 57,
   "metadata": {},
   "outputs": [
    {
     "name": "stdout",
     "output_type": "stream",
     "text": [
      "Introduzca un decimal: 14.5\n"
     ]
    }
   ],
   "source": [
    "x= float(input(\"Introduzca un decimal: \"))\n",
    "va = int(x)\n",
    "dec = abs(x) - int(x)\n",
    "foramto = f'{dec:.2f}'\n",
    "with open('practica01.out','a') as out:\n",
    "    out.write('\\n Numero: {}\\n Valor absoluto: {}\\n Parte decimal: {}\\n'.format(x,va,foramto[2:]))"
   ]
  },
  {
   "cell_type": "markdown",
   "metadata": {},
   "source": [
    "9. Leer a, b, c y d, hallar el menor y mayor de los cuatro números, desplegar su resultado\n",
    "en el archivo “practica01.out”."
   ]
  },
  {
   "cell_type": "code",
   "execution_count": 62,
   "metadata": {},
   "outputs": [
    {
     "name": "stdout",
     "output_type": "stream",
     "text": [
      "Introduzca un numero: 12\n",
      "Introduzca un numero: 2\n",
      "Introduzca un numero: 43\n",
      "Introduzca un numero: 6\n"
     ]
    }
   ],
   "source": [
    "a = int(input(\"Introduzca un numero: \"))\n",
    "b = int(input(\"Introduzca un numero: \"))\n",
    "c = int(input(\"Introduzca un numero: \"))\n",
    "d = int(input(\"Introduzca un numero: \"))\n",
    "\n",
    "lista = [a,b,c,d]\n",
    "mayor = max(lista)\n",
    "menor = min(lista)\n",
    "with open('practica01.out','a') as out:\n",
    "    out.write('\\n Mayor: {}\\n Menor: {}\\n'.format(mayor,menor))"
   ]
  },
  {
   "cell_type": "markdown",
   "metadata": {},
   "source": [
    "10. Dado los valores de X, Y, Z, evaluar A = X^2+Y^2+Z^2. Si se cumple que, A<100 y Y<5\n",
    "calcular B = (X+Y)^2 – X*Z, caso contrario calcular B = (X-Y)^2 + X*Z. Desplegar A y B\n",
    "en el archivo “practica01.out”"
   ]
  },
  {
   "cell_type": "code",
   "execution_count": 63,
   "metadata": {},
   "outputs": [
    {
     "name": "stdout",
     "output_type": "stream",
     "text": [
      "Introduzca un numero: 3\n",
      "Introduzca un numero: 6\n",
      "Introduzca un numero: 12\n"
     ]
    }
   ],
   "source": [
    "x = int(input(\"Introduzca un numero: \"))\n",
    "y = int(input(\"Introduzca un numero: \"))\n",
    "z = int(input(\"Introduzca un numero: \"))\n",
    "\n",
    "a = (x**2)+(y**2)+(z**2) \n",
    "if a<100 and y<5:\n",
    "    b = (x+y)**2 - x*z\n",
    "else:\n",
    "    b = (x-y)**2 + x*z\n",
    "    \n",
    "with open('practica01.out','a') as out:\n",
    "    out.write('\\n Resultado: {}\\n'.format(b))"
   ]
  }
 ],
 "metadata": {
  "kernelspec": {
   "display_name": "Python 3",
   "language": "python",
   "name": "python3"
  },
  "language_info": {
   "codemirror_mode": {
    "name": "ipython",
    "version": 3
   },
   "file_extension": ".py",
   "mimetype": "text/x-python",
   "name": "python",
   "nbconvert_exporter": "python",
   "pygments_lexer": "ipython3",
   "version": "3.7.4"
  }
 },
 "nbformat": 4,
 "nbformat_minor": 2
}

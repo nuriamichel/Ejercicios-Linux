{
 "cells": [
  {
   "cell_type": "markdown",
   "metadata": {},
   "source": [
    "PRÁCTICA No 2\n",
    "\n",
    "CERTIFICACIÓN PYTHON\n",
    "\n",
    "ESTUDIANTE: NURIA LUISA MICHEL LIMACHI\n",
    "\n",
    "Ejercicios:\n",
    "\n",
    "Resolver con IF:\n",
    "\n",
    "1. Escribir un programa que determine si el año es bisiesto. Un año es bisiesto si es\n",
    "múltiplo de 4 (1988), excepto los múltiplos de 100 que no son bisiestos salvo que a su\n",
    "vez también sean múltiplos de 400 (1800no es bisiesto, 2000 sí)."
   ]
  },
  {
   "cell_type": "code",
   "execution_count": 19,
   "metadata": {},
   "outputs": [
    {
     "name": "stdout",
     "output_type": "stream",
     "text": [
      "AÑO BISIESTO\n",
      "Introduce el año: 1972\n",
      "El año es bisiesto\n"
     ]
    }
   ],
   "source": [
    "print(\"AÑO BISIESTO\")\n",
    "anio=int(input(\"Introduce el año: \"))\n",
    "\n",
    "if anio%4==0 and not anio%100==0:  \n",
    "    print(\"El año es bisiesto\")\n",
    "elif anio%100==0 and anio%400==0:\n",
    "    print(\"El año es bisiesto\")\n",
    "else:\n",
    "    print(\"El año no es bisiesto\")\n"
   ]
  },
  {
   "cell_type": "markdown",
   "metadata": {},
   "source": [
    "2. Dado los valores de A, B, C que son los coeficientes de la ecuación de segundo grado,\n",
    "hallar sus raíces reales, desplegar los resultados."
   ]
  },
  {
   "cell_type": "code",
   "execution_count": 31,
   "metadata": {},
   "outputs": [
    {
     "name": "stdout",
     "output_type": "stream",
     "text": [
      "ECUACIÒN DE SEGUNDO GRADO\n",
      "Introduzca el valor de A: -1\n",
      "Introduzca el valor de B: 4\n",
      "Introduzca el valor de C: -7\n",
      "La ecuacion NO tiene soluciones reales\n"
     ]
    }
   ],
   "source": [
    "import math\n",
    "\n",
    "print(\"ECUACIÒN DE SEGUNDO GRADO\")\n",
    "\n",
    "a=int(input(\"Introduzca el valor de A: \"))\n",
    "b=int(input(\"Introduzca el valor de B: \"))\n",
    "c=int(input(\"Introduzca el valor de C: \"))\n",
    "dis = b**2 - (4*a*c)\n",
    "\n",
    "if dis == 0:\n",
    "    s1 = (-b) /(2*a)\n",
    "    print(\"La ecuacion tiene una solucion : \", s1)\n",
    "elif dis >=0:\n",
    "    s2 = (-b + math.sqrt(dis))/(2*a)\n",
    "    s3 = (-b - math.sqrt(dis))/(2*a)\n",
    "    print(\"La ecuacion tiene dos soluciones: \", s2, \" y \", s3)\n",
    "else:\n",
    "    print(\"La ecuacion NO tiene soluciones reales\")\n"
   ]
  },
  {
   "cell_type": "markdown",
   "metadata": {},
   "source": [
    "Resolver con WHILE:\n",
    "\n",
    "3. Dado dos valores A y B, realizar el producto de los dos números por sumas sucesivas,\n",
    "almacenar el resultado en una variable P, mostrar el resultado."
   ]
  },
  {
   "cell_type": "code",
   "execution_count": 128,
   "metadata": {},
   "outputs": [
    {
     "name": "stdout",
     "output_type": "stream",
     "text": [
      "PRODUCTO DE DOS NUMEROS\n",
      "Introduzca el valor del numero A: 7\n",
      "Introduzca el valor del numero B: 8\n",
      "Resultado: 56\n"
     ]
    }
   ],
   "source": [
    "print(\"PRODUCTO DE DOS NUMEROS\")\n",
    "a=int(input(\"Introduzca el valor del numero A: \"))\n",
    "b=int(input(\"Introduzca el valor del numero B: \"))\n",
    "if (a or b)==0:\n",
    "    print (\"Resultado: 0\")\n",
    "p=0\n",
    "while b > 0:\n",
    "    p = p + a\n",
    "    b = b - 1\n",
    "print(\"Resultado:\",p)\n",
    "    "
   ]
  },
  {
   "cell_type": "markdown",
   "metadata": {},
   "source": [
    "4. Dado un número X, determinar el número de dígitos del que esta compuesto y\n",
    "desplegar el resultado."
   ]
  },
  {
   "cell_type": "code",
   "execution_count": 80,
   "metadata": {},
   "outputs": [
    {
     "name": "stdout",
     "output_type": "stream",
     "text": [
      "NUMERO DE DIGITOS\n",
      "Introduzca un numero: 12314\n",
      "Numero de Digitos: 5\n"
     ]
    }
   ],
   "source": [
    "print(\"NUMERO DE DIGITOS\")\n",
    "num=input(\"Introduzca un numero: \")\n",
    "n=list(num)\n",
    "c=0\n",
    "while c <len(n):\n",
    "    c+=1\n",
    "print(\"Numero de Digitos:\",c)"
   ]
  },
  {
   "cell_type": "markdown",
   "metadata": {},
   "source": [
    "5. Escribir un programa que calcule y visualice el más grande, el más pequeño y la media\n",
    "de N números. El valor de N se solicitará al principio del programa y los números\n",
    "serán introducidos por el usuario."
   ]
  },
  {
   "cell_type": "code",
   "execution_count": 108,
   "metadata": {},
   "outputs": [
    {
     "name": "stdout",
     "output_type": "stream",
     "text": [
      "MAX MIN MEDIA\n",
      "Introduzca la cantidad de numeros: 5\n",
      "Introduzca el numero 1: 23\n",
      "Introduzca el numero 2: 53\n",
      "Introduzca el numero 3: 67\n",
      "Introduzca el numero 4: 122\n",
      "Introduzca el numero 5: 34\n",
      "El numero mas grande es: 122.0\n",
      "El numero mas pequeño es: 23.0\n",
      "La media de los numeros es: 59.8\n"
     ]
    }
   ],
   "source": [
    "print(\"MAX MIN MEDIA\")\n",
    "lista=[]\n",
    "n=int(input(\"Introduzca la cantidad de numeros: \"))\n",
    "i=1\n",
    "while i in range(1,n+1):\n",
    "    num=float(input(f\"Introduzca el numero {i}: \"))\n",
    "    lista.append(num)\n",
    "    i=i+1\n",
    "mayor=max(lista)\n",
    "menor=min(lista)\n",
    "media=sum(lista)/n\n",
    "print(f\"El numero mas grande es: {mayor}\\nEl numero mas pequeño es: {menor}\\nLa media de los numeros es: {media}\")"
   ]
  },
  {
   "cell_type": "markdown",
   "metadata": {},
   "source": [
    "6. Dado dos números A y B enteros mayores a cero, hallar A^B por sumas. Desplegar los\n",
    "números y el resultado."
   ]
  },
  {
   "cell_type": "code",
   "execution_count": 67,
   "metadata": {},
   "outputs": [
    {
     "name": "stdout",
     "output_type": "stream",
     "text": [
      "POTENCIAS\n",
      "Introduzca el valor de A: 2\n",
      "Introduzca el valor de B: 7\n",
      "Resultado: 128\n"
     ]
    }
   ],
   "source": [
    "print(\"POTENCIAS\")\n",
    "a=int(input(\"Introduzca el valor de A: \"))\n",
    "b=int(input(\"Introduzca el valor de B: \"))\n",
    "\n",
    "if (a or b)<=0:\n",
    "    print(\"Indeterminacion\")\n",
    "else:\n",
    "    p=1\n",
    "    while b > 0:\n",
    "        p = p * a\n",
    "        b = b - 1\n",
    "print(\"Resultado:\",p)\n"
   ]
  },
  {
   "cell_type": "markdown",
   "metadata": {},
   "source": [
    "7. La constante pi (3.1441592...) es muy utilizada en matemáticas. Un método sencillo\n",
    "de calcular su valor es:\n",
    "\n",
    "pi=2*(2/1)*(2/3)*(4/3)*(4/5)*(6/5)*(6/7)*(8/7)*(8/9)...\n",
    "\n",
    "Escribir un programa que efectúe este cálculo con un número de términos\n",
    "especificando por el usuario."
   ]
  },
  {
   "cell_type": "code",
   "execution_count": 66,
   "metadata": {},
   "outputs": [
    {
     "name": "stdout",
     "output_type": "stream",
     "text": [
      "PI\n",
      "Introduzca el número de términos: 232\n",
      "El valor de pi es: 3.134858287426433\n"
     ]
    }
   ],
   "source": [
    "print(\"PI\")\n",
    "n=int(input(\"Introduzca el número de términos: \"))\n",
    "c1=2\n",
    "c2=2\n",
    "c3=1\n",
    "for i in range(n):\n",
    "    c1=c1*(c2/c3)\n",
    "    if i%2==0:\n",
    "        c3=c3+2\n",
    "    else:\n",
    "        c2=c2+2\n",
    "    i=i+1\n",
    "print(\"El valor de pi es:\", c1)"
   ]
  },
  {
   "cell_type": "markdown",
   "metadata": {},
   "source": [
    "8. El valor de e^x se puede aproximar por la suma 1+x+(x^2/2!)+(x^3/3!)(x^4/4!)+...+(x^n/n!) Escribir un programa que tome un valor de x como entrada y visualice la suma para cada uno de los valores de 1 a 100."
   ]
  },
  {
   "cell_type": "code",
   "execution_count": 65,
   "metadata": {},
   "outputs": [
    {
     "name": "stdout",
     "output_type": "stream",
     "text": [
      "EL VALOR DE e^x\n",
      "Introduzca el valor de X: 5\n",
      "El valor de e^x es aproximadamente: 148.41315910257657\n"
     ]
    }
   ],
   "source": [
    "print(\"EL VALOR DE e^x\")\n",
    "def factorial(n):\n",
    "    if n == 0:\n",
    "        return 1\n",
    "    else:\n",
    "        return n * factorial(n-1)\n",
    "\n",
    "x = int(input(\"Introduzca el valor de X: \"))\n",
    "suma = 0\n",
    "for i in range(0,100):\n",
    "    suma = suma + ((x ** i) / factorial(i))\n",
    "print(\"El valor de e^x es aproximadamente:\",suma)"
   ]
  },
  {
   "cell_type": "markdown",
   "metadata": {},
   "source": [
    "USO DE LISTAS ANIDADAS:\n",
    "\n",
    "9. Calcular la suma de todos los elementos de un vector, así como la media aritmética."
   ]
  },
  {
   "cell_type": "code",
   "execution_count": 57,
   "metadata": {},
   "outputs": [
    {
     "name": "stdout",
     "output_type": "stream",
     "text": [
      "VECTOR\n",
      "Ingrese el numero de filas: 3\n",
      "Ingrese el numero de columnas: 3\n",
      "Elemento 0,0: 1\n",
      "Elemento 0,1: 2\n",
      "Elemento 0,2: 3\n",
      "Elemento 1,0: 4\n",
      "Elemento 1,1: 5\n",
      "Elemento 1,2: 6\n",
      "Elemento 2,0: 7\n",
      "Elemento 2,1: 8\n",
      "Elemento 2,2: 9\n",
      "La suma de todos los elementos es 45 y su media es 5.0\n"
     ]
    }
   ],
   "source": [
    "print(\"VECTOR\")\n",
    "vector=[]\n",
    "filas=int(input(\"Ingrese el numero de filas: \"))\n",
    "columnas=int(input(\"Ingrese el numero de columnas: \"))\n",
    "for i in range(filas):\n",
    "    vector.append([0]*columnas)\n",
    "for f in range (filas):\n",
    "    for c in range (columnas):\n",
    "        vector[f][c]=int(input(f\"Elemento {f},{c}: \"))\n",
    "suma=0\n",
    "for j in vector:\n",
    "    suma =suma + sum(j)\n",
    "media = suma/(filas*columnas)\n",
    "print(f\"La suma de todos los elementos es {suma} y su media es {media}\")\n",
    "\n"
   ]
  },
  {
   "cell_type": "markdown",
   "metadata": {},
   "source": [
    "10. Multiplicar dos matrices."
   ]
  },
  {
   "cell_type": "code",
   "execution_count": 68,
   "metadata": {},
   "outputs": [
    {
     "name": "stdout",
     "output_type": "stream",
     "text": [
      "MULTIPLICACION ENTRE DOS MATRICES\n",
      "Ingrese el numero de filas de la matriz 1: 3\n",
      "Ingrese el numero de columnas de la matriz 1: 3\n",
      "Ingrese el numero de filas de la matriz 2: 3\n",
      "Ingrese el numero de columnas de la matriz 2: 2\n",
      "Ingrese elementos de la Matriz 1\n",
      "Elemento 0,0: 1\n",
      "Elemento 0,1: 2\n",
      "Elemento 0,2: 3\n",
      "Elemento 1,0: 4\n",
      "Elemento 1,1: 5\n",
      "Elemento 1,2: 6\n",
      "Elemento 2,0: 7\n",
      "Elemento 2,1: 8\n",
      "Elemento 2,2: 9\n",
      "Ingrese elementos de la Matriz 2\n",
      "Elemento 0,0: 9\n",
      "Elemento 0,1: 8\n",
      "Elemento 1,0: 7\n",
      "Elemento 1,1: 6\n",
      "Elemento 2,0: 5\n",
      "Elemento 2,1: 4\n",
      "La matriz resultante es\n",
      "[[38, 32], [101, 86], [164, 140]]\n"
     ]
    }
   ],
   "source": [
    "print(\"MULTIPLICACION ENTRE DOS MATRICES\")\n",
    "filas1=int(input(\"Ingrese el numero de filas de la matriz 1: \"))\n",
    "columnas1=int(input(\"Ingrese el numero de columnas de la matriz 1: \"))\n",
    "filas2=int(input(\"Ingrese el numero de filas de la matriz 2: \"))\n",
    "columnas2=int(input(\"Ingrese el numero de columnas de la matriz 2: \"))\n",
    "\n",
    "if (columnas1==filas2):\n",
    "\n",
    "    matriz1 = []\n",
    "    for i in range(filas1):\n",
    "        matriz1.append( [0] * columnas1 )\n",
    "\n",
    "    matriz2 = []\n",
    "    for i in range(filas2):\n",
    "        matriz2.append( [0] * columnas2 )\n",
    "\n",
    "    print (\"Ingrese elementos de la Matriz 1\")\n",
    "    for i in range(filas1):\n",
    "        for j in range(columnas1):\n",
    "            matriz1[i][j] = int(input(f\"Elemento {i},{j}: \"))\n",
    "    print (\"Ingrese elementos de la Matriz 2\")\n",
    "    for i in range(filas2):\n",
    "        for j in range(columnas2):\n",
    "            matriz2[i][j] = int(input(f\"Elemento {i},{j}: \"))\n",
    "\n",
    "    matrizR = []\n",
    "    for i in range(filas1):\n",
    "        matrizR.append( [0] * columnas2 )\n",
    "\n",
    "    for i in range(filas1):\n",
    "        for j in range(columnas2):\n",
    "            for k in range(filas2):\n",
    "                matrizR[i][j] += matriz1[i][k] * matriz2[k][j]\n",
    "    print (f\"La matriz resultante es\\n{matrizR}\")\n",
    "    \n",
    "else:\n",
    "    print (\"No se pueden multiplicar las matrices ya que no estan en mxn * nxp\")"
   ]
  },
  {
   "cell_type": "code",
   "execution_count": null,
   "metadata": {},
   "outputs": [],
   "source": []
  }
 ],
 "metadata": {
  "kernelspec": {
   "display_name": "Python 3",
   "language": "python",
   "name": "python3"
  },
  "language_info": {
   "codemirror_mode": {
    "name": "ipython",
    "version": 3
   },
   "file_extension": ".py",
   "mimetype": "text/x-python",
   "name": "python",
   "nbconvert_exporter": "python",
   "pygments_lexer": "ipython3",
   "version": "3.7.4"
  }
 },
 "nbformat": 4,
 "nbformat_minor": 2
}

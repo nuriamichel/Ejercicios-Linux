{
 "cells": [
  {
   "cell_type": "markdown",
   "metadata": {},
   "source": [
    "<img src=cenapad.jpg align=left><BR><BR><BR><BR><BR><BR>\n",
    "<h1>Curso Introducción al Lenguaje Python<br>Programación Estructurada</h1>\n",
    "<img src=python-logo.png align=left>"
   ]
  },
  {
   "cell_type": "markdown",
   "metadata": {},
   "source": [
    "# 2.1 Primeros pasos hacia la programación¶"
   ]
  },
  {
   "cell_type": "markdown",
   "metadata": {},
   "source": [
    "Por supuesto, podemos usar Python para tareas más complicadas que sumar dos y dos. Por ejemplo, podemos escribir una subsecuencia inicial de la serie de Fibonacci así:"
   ]
  },
  {
   "cell_type": "code",
   "execution_count": null,
   "metadata": {},
   "outputs": [],
   "source": [
    "# Series de Fibonacci:\n",
    "# la suma de dos elementos define el siguiente\n",
    "a, b = 0, 1\n",
    "while b < 10:\n",
    "    print(b)\n",
    "    a, b = b, a+b"
   ]
  },
  {
   "cell_type": "code",
   "execution_count": null,
   "metadata": {},
   "outputs": [],
   "source": [
    "lista=[]\n",
    "a, b = 0, 1\n",
    "\n",
    "while b < 10:\n",
    "    lista.append(b)\n",
    "    a, b = b, a+b\n",
    "    \n",
    "print(lista)"
   ]
  },
  {
   "cell_type": "markdown",
   "metadata": {},
   "source": [
    "Este ejemplo introduce varias características nuevas.\n",
    "<ul>\n",
    "<li>La primer línea contiene una asignación múltiple: las variables a y b toman en forma simultanea los nuevos valores 0 y 1. En la última linea esto se vuelve a usar, demostrando que las expresiones a la derecha son evaluadas antes de que suceda cualquier asignación. Las expresiones a la derecha son evaluadas de izquierda a derecha.</li><br>\n",
    "\n",
    "<li>El bucle while se ejecuta mientras la condición (aquí: b < 10) sea verdadera. En Python, como en C, cualquier entero distinto de cero es verdadero; cero es falso. La condición también puede ser una cadena de texto o una lista, de hecho cualquier secuencia; cualquier cosa con longitud distinta de cero es verdadero, las secuencias vacías son falsas. La prueba usada en el ejemplo es una comparación simple.</li><br>\n",
    "\n",
    "<li>El cuerpo del bucle tiene sangría: Python utiliza 4 espacios para diferencias que se encuentra en un bucle o función. El interpretador permite la utilziación de 4 espacios o tabulación (tab) pero no mezclar ambos tipos, pues puede generar errores en la interpretación.</li><br>\n",
    "\n",
    "<li>La función print() escribe el valor de el o los argumentos que se le pasan. Difiere de simplemente escribir la expresión que se quiere mostrar en la forma en que maneja múltiples argumentos, cantidades en punto flotante, y cadenas. Las cadenas de texto son impresas sin comillas, y un espacio en blanco es insertado entre los elementos, así puedes formatear cosas de una forma agradable:</li>\n",
    "\n",
    "</ul>"
   ]
  },
  {
   "cell_type": "code",
   "execution_count": null,
   "metadata": {},
   "outputs": [],
   "source": [
    "i = 256 * 256\n",
    "print('El valor de i es', i)"
   ]
  },
  {
   "cell_type": "markdown",
   "metadata": {},
   "source": [
    "El parámetro nombrado end puede usarse para evitar el salto de linea al final de la salida, o terminar la salida con una cadena diferente:"
   ]
  },
  {
   "cell_type": "code",
   "execution_count": null,
   "metadata": {},
   "outputs": [],
   "source": [
    "lista = []\n",
    "a, b = 0, 1\n",
    "while b < 1000:\n",
    "    print(b, end=', ')\n",
    "    lista.append(b)\n",
    "    a, b = b, a+b"
   ]
  },
  {
   "cell_type": "code",
   "execution_count": null,
   "metadata": {},
   "outputs": [],
   "source": [
    "for elemento in lista:\n",
    "    print(elemento, end=\", \")"
   ]
  },
  {
   "cell_type": "markdown",
   "metadata": {},
   "source": [
    "Otros ejemplos de la utilización de <b>print</b>."
   ]
  },
  {
   "cell_type": "code",
   "execution_count": 41,
   "metadata": {},
   "outputs": [
    {
     "name": "stdout",
     "output_type": "stream",
     "text": [
      "Mercury, Venus, Earth\n",
      "Mars, Jupiter, Saturn\n",
      "Uranus, Neptune, Pluto\n"
     ]
    }
   ],
   "source": [
    "print('Mercury', 'Venus', 'Earth', sep=', ')\n",
    "print('Mars', 'Jupiter', 'Saturn', sep=', ')\n",
    "print('Uranus', 'Neptune', 'Pluto', sep=', ')"
   ]
  },
  {
   "cell_type": "code",
   "execution_count": null,
   "metadata": {},
   "outputs": [],
   "source": [
    "print('Mercury', 'Venus', 'Earth', sep=', ', end='\\t\\t')\n",
    "print('Mars', 'Jupiter', 'Saturn', sep=', ', end='\\t\\t')\n",
    "print('Uranus', 'Neptune', 'Pluto', sep=', ')"
   ]
  },
  {
   "cell_type": "code",
   "execution_count": null,
   "metadata": {},
   "outputs": [],
   "source": [
    "print('Mercury', 'Venus', 'Earth', sep=', ')\n",
    "print('Mars', 'Jupiter', 'Saturn', sep=', ')\n",
    "print('Uranus', 'Neptune', 'Pluto', sep=', ')"
   ]
  },
  {
   "cell_type": "code",
   "execution_count": null,
   "metadata": {},
   "outputs": [],
   "source": [
    "print('Printing in a Nutshell', end='\\n * ')\n",
    "print('Calling Print', end='\\n * ')\n",
    "print('Separating Multiple Arguments', end='\\n * ')\n",
    "print('Preventing Line Breaks')"
   ]
  },
  {
   "cell_type": "markdown",
   "metadata": {},
   "source": [
    "Para más información sobre print visitar: https://realpython.com/python-print/"
   ]
  },
  {
   "cell_type": "markdown",
   "metadata": {},
   "source": [
    "# 2.2. Condicionales: if, elif y else"
   ]
  },
  {
   "cell_type": "markdown",
   "metadata": {},
   "source": [
    "La declaración if/elif/else funciona para controlar el fluxo de ejecución basandose en una o más condiciones. La sintaxis es la siguiente:"
   ]
  },
  {
   "cell_type": "code",
   "execution_count": null,
   "metadata": {},
   "outputs": [],
   "source": [
    "#No ejecute está célula\n",
    "if condicion:\n",
    "    comando1\n",
    "    comando2\n",
    "    ...\n",
    "    comandoN\n",
    "elif condicion:\n",
    "    comando1\n",
    "    comando2\n",
    "    ...\n",
    "    comandoN\n",
    "else:\n",
    "    comando1\n",
    "    comando2\n",
    "    ...\n",
    "    comandoN"
   ]
  },
  {
   "cell_type": "markdown",
   "metadata": {},
   "source": [
    "Observa la <b>IDENTACIÓN</b> que define los bloques de código, a diferencia de otros lenguajes que usan delimitadores como llaves tales como \"{\" y \"}\" o bloques con \"begin\" y \"end\".<br>\n",
    "\n",
    "Una buena práctica es usar <b>IDENTATION</b> con 4 espacios (primer nivel), 8 espacios (segundo nivel), etc.<br>\n",
    "\n",
    "<b>NO SE DEBÉN USAR TABULACIONES</b> (debido a las convenciones de portabilidad y legibilidad), aunque están permitidas.<br>\n",
    "\n",
    "<b>NUNCA se debe mezclar espacios con tabulaciones en el mismo programa.</b><br>\n",
    "\n",
    "IDENTATION en Python es obligatorio y forma parte de la sintaxis. La ventaja de esta característica es la legibilidad del código. La mayoría de los editores de código o IDE de desarrollo facilitarán el trabajo de IDENTACIÓN colocando espacios automáticamente si se encuentra dentro del contexto de un bloque de código."
   ]
  },
  {
   "cell_type": "markdown",
   "metadata": {},
   "source": [
    "#### Ejemplo de uso del condicional if elif else:"
   ]
  },
  {
   "cell_type": "code",
   "execution_count": null,
   "metadata": {},
   "outputs": [],
   "source": [
    "nombre = input(\"¿Cual es su nombre?:\")\n",
    "edad = int(input(\"¿Cual es su edad?:\")) #Ingrese un número entero\n",
    "grupo=\"\"\n",
    "\n",
    "if edad <= 12:\n",
    "    grupo = \"Infancia\"\n",
    "elif edad <= 18:\n",
    "    grupo = \"Adolescencia\"\n",
    "elif edad <= 26:\n",
    "    grupo = \"Juventud\"\n",
    "elif edad <= 65:\n",
    "    grupo = \"Adultez\"\n",
    "else:\n",
    "    grupo = \"Persona Mayor\"\n",
    "\n",
    "print(f\"Nombre: {nombre} - Edad: {edad} - Pertenece al grupo {grupo}.\")"
   ]
  },
  {
   "cell_type": "markdown",
   "metadata": {},
   "source": [
    "La palabra reservada ‘elif‘ es una abreviación de ‘else if’, y es útil para evitar un sangrado excesivo. Una secuencia if ... elif ... elif ... sustituye las sentencias switch o case encontradas en otros lenguajes.\n",
    "\n",
    "La declaración if/elif/else puede precisa tener  tener ninguún bloque elif, por ejemplo:"
   ]
  },
  {
   "cell_type": "code",
   "execution_count": null,
   "metadata": {},
   "outputs": [],
   "source": [
    "edad=21\n",
    "if edad<=17:\n",
    "    print(\"Menor de edad\")\n",
    "else:\n",
    "    print(\"Mayor de edad\")"
   ]
  },
  {
   "cell_type": "markdown",
   "metadata": {},
   "source": [
    "Es posible combinar condiones con otros operadores <b>and</b>, <b>not</b> y <b>or</b>."
   ]
  },
  {
   "cell_type": "code",
   "execution_count": null,
   "metadata": {},
   "outputs": [],
   "source": [
    "edad = 31\n",
    "if edad <= 12:\n",
    "    print(\"Infancia\")\n",
    "elif edad > 12 and edad < 21:\n",
    "    print(\"Adolescente\")\n",
    "elif edad>=21:\n",
    "    print(\"Adulto\")"
   ]
  },
  {
   "cell_type": "code",
   "execution_count": null,
   "metadata": {},
   "outputs": [],
   "source": [
    "x = int(input(\"Ingrese un número entero: \"))\n",
    "y = int(input(\"Ingrese otro número entero: \"))\n",
    "if x%2==1 and y%2==1:\n",
    "    print(\"Ambos números son impares\")\n",
    "else:\n",
    "    print(\"Por lo menos uno de los números es par\")"
   ]
  },
  {
   "cell_type": "code",
   "execution_count": null,
   "metadata": {},
   "outputs": [],
   "source": [
    "x = int(input(\"Ingrese un número entero: \"))\n",
    "y = int(input(\"Ingrese otro número entero: \"))\n",
    "if x%2==1 or y%2==1:\n",
    "    print(\"Por lo menos uno delos números es impar\")\n",
    "else:\n",
    "    print(\"Ambos números son pares\")"
   ]
  },
  {
   "cell_type": "code",
   "execution_count": null,
   "metadata": {},
   "outputs": [],
   "source": [
    "num = list(range(1,30))\n",
    "for n in num:\n",
    "    if n%3==0:\n",
    "        print(f\"{n} es divisible por 3\")"
   ]
  },
  {
   "cell_type": "markdown",
   "metadata": {},
   "source": [
    "Alternativamente, en lugar de imprimir en la pantalla, podemos crear una lista con los números divisibles por 3 y luego imprimirla"
   ]
  },
  {
   "cell_type": "code",
   "execution_count": null,
   "metadata": {},
   "outputs": [],
   "source": [
    "num = list(range(1,30))\n",
    "num_div3=[] #Iniciando una lista vacia (Esto es necesario para que podemos usar el método append)\n",
    "for n in num:\n",
    "    if n%3==0:\n",
    "        num_div3.append(n)\n",
    "print(num_div3)"
   ]
  },
  {
   "cell_type": "markdown",
   "metadata": {},
   "source": [
    "### Ejercicio 1:\n",
    "\n",
    "Dado tres puntos en el plano expresados como coordenadas (x, y) informar cuál es el que se encuentra más lejos del centro de coordenadas."
   ]
  },
  {
   "cell_type": "code",
   "execution_count": 2,
   "metadata": {},
   "outputs": [
    {
     "name": "stdout",
     "output_type": "stream",
     "text": [
      "Introducir x1: 1\n",
      "Intruducir y1: 2\n",
      "Introducir x2: 3\n",
      "Intruducir y2: 4\n",
      "Introducir x3: 5\n",
      "Intruducir y3: 6\n",
      "El que se encuentra mas lejos es:  7.810249675906654\n"
     ]
    }
   ],
   "source": [
    "# Escriba el código aqui\n",
    "import math\n",
    "x1=int(input(\"Introducir x1: \"))\n",
    "y1=int(input(\"Intruducir y1: \"))\n",
    "x2=int(input(\"Introducir x2: \"))\n",
    "y2=int(input(\"Intruducir y2: \"))\n",
    "x3=int(input(\"Introducir x3: \"))\n",
    "y3=int(input(\"Intruducir y3: \"))\n",
    "d1=float(math.sqrt(x1**2+y1**2))\n",
    "d2=float(math.sqrt(x2**2+y2**2))\n",
    "d3=float(math.sqrt(x3**2+y3**2))\n",
    "lista=[d1,d2,d3]\n",
    "ml=max(lista)\n",
    "print(\"El que se encuentra mas lejos es: \",ml)\n"
   ]
  },
  {
   "cell_type": "markdown",
   "metadata": {},
   "source": [
    "### Ejercicio 2:\n",
    "\n",
    "Escribir un programa que almacene la cadena de caracteres contraseña en una variable, pregunte al usuario por la contraseña e imprima por pantalla si la contraseña introducida por el usuario coincide con la guardada en la variable sin tener en cuenta mayúsculas y minúsculas.\n",
    "\n",
    "Sugerencia: utilizar la función lower.\n",
    "\n",
    "<b>Salida deseada:</b><br>\n",
    "La contaseña coincide<br>\n",
    "<br>\n",
    "La contraseña no coincide"
   ]
  },
  {
   "cell_type": "code",
   "execution_count": 4,
   "metadata": {},
   "outputs": [
    {
     "name": "stdout",
     "output_type": "stream",
     "text": [
      "Introduzca la contraseña: HOLA\n",
      "Las contraseñas coinciden\n"
     ]
    }
   ],
   "source": [
    "# Escriba el código aqui\n",
    "contrasena=\"hola\"\n",
    "contr=input(\"Introduzca la contraseña: \")\n",
    "if contr.lower()==contrasena.lower():\n",
    "    print(\"Las contraseñas coinciden\")\n",
    "else:\n",
    "    print(\"Las contraseñas No coinciden\")\n"
   ]
  },
  {
   "cell_type": "markdown",
   "metadata": {},
   "source": [
    "### Ejercicio 3:\n",
    "\n",
    "Para tributar un determinado impuesto se debe ser mayor de 16 años y tener unos ingresos iguales o superiores a 2000 Bs mensuales. Escribir un programa que pregunte al usuario su edad y sus ingresos mensuales y muestre por pantalla si el usuario tiene que tributar o no.\n",
    "\n",
    "<b>Salida deseada:</b><br>\n",
    "Tienes que tributar<br>\n",
    "<br>\n",
    "No tienes que tributar"
   ]
  },
  {
   "cell_type": "code",
   "execution_count": null,
   "metadata": {},
   "outputs": [],
   "source": [
    "# Escriba el código aqui\n",
    "edad=int(input(\"Intruzca edad: \"))\n",
    "iM=int(input(\"Intruzca ingresos mensuales: \"))\n",
    "if edad > 16 and iM >= 2000:\n",
    "    print(\"El usuario tiene que tributar\")\n",
    "else:\n",
    "    print(\"El usuario NO tiene que tributar\")\n"
   ]
  },
  {
   "cell_type": "markdown",
   "metadata": {},
   "source": [
    "### Ejercicio 4:\n",
    "\n",
    "Escriba un programa que pida dos números enteros y que calcule su división, escribiendo si la división es exacta o no. El programa debe tomar en cuenta que no se puede dividir por cero."
   ]
  },
  {
   "cell_type": "code",
   "execution_count": 7,
   "metadata": {},
   "outputs": [
    {
     "name": "stdout",
     "output_type": "stream",
     "text": [
      "Introduzca un numero entero: 2\n",
      "Introduzca un numero entero: 0\n",
      "Error\n"
     ]
    }
   ],
   "source": [
    "# Escriba el código aqui\n",
    "n1=int(input(\"Introduzca un numero entero: \"))\n",
    "n2=int(input(\"Introduzca un numero entero: \"))\n",
    "if n2==0:\n",
    "    print(\"Error\")\n",
    "elif n1%n2==0:\n",
    "    print(\"La division es exacta\")\n",
    "else:\n",
    "    print(\"La division NO es exacta\")\n"
   ]
  },
  {
   "cell_type": "markdown",
   "metadata": {},
   "source": [
    "### Ejercicio 5:\n",
    "\n",
    "Escriba un programa que pida año, mes y día y retorne cuantos días han pasado o faltan a la fecha actual."
   ]
  },
  {
   "cell_type": "code",
   "execution_count": 68,
   "metadata": {},
   "outputs": [
    {
     "name": "stdout",
     "output_type": "stream",
     "text": [
      "Introducir fecha (dd/mm/aaaa): 29/2/2020\n",
      "Han pasado:  1  dias a la fecha actual\n"
     ]
    }
   ],
   "source": [
    "# Escriba el código aqui\n",
    "from datetime import datetime\n",
    "formato=\"%d/%m/%Y\"\n",
    "\n",
    "fechaA=datetime.now()\n",
    "fecha = input('Introducir fecha (dd/mm/aaaa): ')\n",
    "fechaI=datetime.strptime(fecha,formato)\n",
    "\n",
    "resta=fechaA-fechaI\n",
    "\n",
    "if fechaA < fechaI:\n",
    "    d1=resta.days\n",
    "    print(\"Han pasado: \",d1*(-1),\" dias a la fecha actual\")\n",
    "else:\n",
    "    d2=resta.days\n",
    "    print(\"Faltan: \",d2,\" dias a la fecha actual\")\n",
    "    \n"
   ]
  },
  {
   "cell_type": "markdown",
   "metadata": {},
   "source": [
    "### Ejercicio 6:\n",
    "\n",
    "Escriba un programa que pida dos números enteros y que escriba si el mayor es múltiplo del menor. El programa debe avisar cuando se escriba valores negativos o nulos."
   ]
  },
  {
   "cell_type": "code",
   "execution_count": 25,
   "metadata": {},
   "outputs": [
    {
     "name": "stdout",
     "output_type": "stream",
     "text": [
      "Introduzca un numero entero: 2\n",
      "Introduzca un numero entero: 10\n",
      "10  es multiplo de  2\n"
     ]
    }
   ],
   "source": [
    "# Escriba el código aqui\n",
    "n1=int(input(\"Introduzca un numero entero: \"))\n",
    "n2=int(input(\"Introduzca un numero entero: \"))\n",
    "lista=[n1,n2]\n",
    "mayor=max(lista)\n",
    "menor=min(lista)\n",
    "if n1 and n2 <= 0:\n",
    "    print(\"No se puede ingresar numeros negativos o nulos\")\n",
    "elif mayor%menor==0:\n",
    "    print(mayor ,\" es multiplo de \", menor)\n",
    "else:\n",
    "    print(mayor ,\" NO es multiplo de \", menor)\n",
    "\n"
   ]
  },
  {
   "cell_type": "markdown",
   "metadata": {},
   "source": [
    "### Ejercicio 7:\n",
    "\n",
    "Escriba un programa que pida los coeficientes de una ecuación de segundo grado (a x² + b x + c = 0) y escriba la solución.\n",
    "\n",
    "Se recuerda que una ecuación de segundo grado puede no tener solución (solución con números complejos), tener una solución única, tener dos soluciones o que todos los números sean solución. Se recuerda que la fórmula de las soluciones cuando hay dos soluciones es x = (-b ± √(b2-4ac) ) / (2a)\n",
    "\n",
    "En caso de no tener solución, hacer uso de la números complejos de Python.\n",
    "\n",
    "Más información en:<br>\n",
    "[1] https://relopezbriega.github.io/blog/2015/10/12/numeros-complejos-con-python/<br>\n",
    "[2] https://pybonacci.org/2014/02/04/como-separar-parte-real-e-imaginaria-en-sympy/\n",
    "\n",
    "<b>Salida deseada</b><br>\n",
    "ECUACIÓN A X² + B X + C = 0<br>\n",
    "Escriba el valor del coeficiente a: 2<br>\n",
    "Escriba el valor del coeficiente b: -7<br>\n",
    "Escriba el valor del coeficiente c: 3<br>\n",
    "La ecuación tiene dos soluciones: 3.0 y 0.5"
   ]
  },
  {
   "cell_type": "code",
   "execution_count": 31,
   "metadata": {},
   "outputs": [
    {
     "name": "stdout",
     "output_type": "stream",
     "text": [
      "La ECUACION ES: A X 2 + B X + C = 0\n",
      "Escriba el valor del coeficiente a: 2\n",
      "Escriba el valor del coeficiente b: -7\n",
      "Escriba el valor del coeficiente c: 3\n",
      "La ecuacion tiene dos soluciones:  3.0  y  0.5\n"
     ]
    }
   ],
   "source": [
    "# Escriba el código aqui\n",
    "import math\n",
    "import cmath\n",
    "print(\"La ECUACION ES: A X 2 + B X + C = 0\")\n",
    "a = float(input(\"Escriba el valor del coeficiente a: \"))\n",
    "b = float(input(\"Escriba el valor del coeficiente b: \"))\n",
    "c = float(input(\"Escriba el valor del coeficiente c: \"))\n",
    "dis = b**2 - (4*a*c)\n",
    "\n",
    "if dis == 0:\n",
    "    s1 = (-b) /(2*a)\n",
    "    print(\"La ecuacion tiene una solucion : \", s1)\n",
    "elif dis >=0:\n",
    "    s2 = (-b + math.sqrt(dis))/(2*a)\n",
    "    s3 = (-b - math.sqrt(dis))/(2*a)\n",
    "    print(\"La ecuacion tiene dos soluciones: \", s2, \" y \", s3)\n",
    "else:\n",
    "    s4 = (-b + cmath.sqrt(dis))/(2*a)\n",
    "    s5 = (-b - cmath.sqrt(dis))/(2*a)\n",
    "    print(\"La ecuacion tiene dos soluciones imaginarias: \", s4, \" y \", s5)"
   ]
  },
  {
   "cell_type": "markdown",
   "metadata": {},
   "source": [
    "### Ejercicio 8:\n",
    "\n",
    "Escriba un programa que pregunte primero si se quiere calcular el área de un triángulo o la de un círculo. Si se contesta que se quiere calcular el área de un triángulo (escribiendo T o t), el programa tiene que pedir entonces la base y la altura y escribir el área. Si se contesta que se quiere calcular el área de un círculo (escribiendo C o c), el programa tiene que pedir entonces el radio y escribir el área.\n",
    "\n",
    "Se recuerda que el área de un triángulo es base por altura dividido por 2 y que el área de un círculo es Pi (aproximadamente 3,141592) por el radio al cuadrado. Utilizar 2 decimales para la salida.\n",
    "\n",
    "Nota: Utilice la libreria math para obtener la función pi.\n",
    "\n",
    "<b>Salida deseada:</b><br>\n",
    "CÁLCULO DE ÁREAS<br>\n",
    "Elija una figura geométrica:<br>\n",
    "a) Triángulo<br>\n",
    "b) Círculo<br>\n",
    "¿Qué figura quiere calcular (Escriba T o C)? T<br>\n",
    "Escriba la base: 3<br>\n",
    "Escriba la altura: 5.5<br>\n",
    "Un triángulo de base 3.0 y altura 5.0 tiene un área de 8.25<br>\n",
    "<br>\n",
    "CÁLCULO DE ÁREAS<br>\n",
    "Elija una figura geométrica:<br>\n",
    "a) Triángulo<br>\n",
    "b) Círculo<br>\n",
    "¿Qué figura quiere calcular (Escriba T o C)? C<br>\n",
    "Escriba el radio: 2<br>\n",
    "Un círculo de radio 2.0 tiene un área de 12.57<br>"
   ]
  },
  {
   "cell_type": "code",
   "execution_count": 58,
   "metadata": {},
   "outputs": [
    {
     "name": "stdout",
     "output_type": "stream",
     "text": [
      "CALCULO DE AREAS \n",
      "Eliga una figura geometrica: \n",
      "a) Triangulo \n",
      "b) Circulo\n",
      "¿Qué figura quiere calcular (Escriba T o C)? c\n",
      "Escriba el radio: 2\n",
      "Un circulo de radio  2.0 tiene un área de  12.57\n"
     ]
    }
   ],
   "source": [
    "# Escriba el código aqui\n",
    "import math\n",
    "print(\"CALCULO DE AREAS \\nEliga una figura geometrica: \\na) Triangulo \\nb) Circulo\")\n",
    "en=input(\"¿Qué figura quiere calcular (Escriba T o C)? \")\n",
    "if (en == \"t\" or en == \"T\"):\n",
    "    \n",
    "    b=float(input(\"Escriba la base: \"))\n",
    "    a=float(input(\"Escriba la altura: \"))\n",
    "    areaT= (b*a)/2\n",
    "    print(\"Un triángulo de base \",b,\" y altura \", a, \"tiene un área de \", areaT)\n",
    "elif (en== \"c\" or en == \"C\"):\n",
    "    \n",
    "    r=float(input(\"Escriba el radio: \"))\n",
    "    areaC= math.pi* r**2\n",
    "    redondeado=round(areaC,2)\n",
    "    print(\"Un circulo de radio \",r, \"tiene un área de \", redondeado)\n",
    "\n",
    "\n"
   ]
  },
  {
   "cell_type": "markdown",
   "metadata": {},
   "source": [
    "### 2.3. La Sentencia for\n",
    "\n",
    "La sentencia <b>for</b> en Python difiere un poco de lo que uno puede estar acostumbrado en lenguajes como C o Pascal. En lugar de siempre iterar sobre una progresión aritmética de números (como en Pascal) o darle al usuario la posibilidad de definir tanto el paso de la iteración como la condición de fin (como en C), la sentencia <b>for</b> de Python itera sobre los ítems de cualquier secuencia (una lista o una cadena de texto), en el orden que aparecen en la secuencia. Por ejemplo:"
   ]
  },
  {
   "cell_type": "code",
   "execution_count": 1,
   "metadata": {},
   "outputs": [
    {
     "name": "stdout",
     "output_type": "stream",
     "text": [
      "gato 4\n",
      "ventana 7\n",
      "defenestrado 12\n"
     ]
    }
   ],
   "source": [
    "# Midiendo cadenas de texto\n",
    "palabras = ['gato', 'ventana', 'defenestrado']\n",
    "for p in palabras:\n",
    "    print(p, len(p))"
   ]
  },
  {
   "cell_type": "markdown",
   "metadata": {},
   "source": [
    "Si necesitá modificar la secuencia sobre la que estás iterando mientras estás adentro del ciclo (por ejemplo para borrar algunos ítems), se recomienda que hagas primero una copia. Iterar sobre una secuencia no hace implícitamente una copia. La notación abajo es especialmente conveniente para esto:"
   ]
  },
  {
   "cell_type": "code",
   "execution_count": 2,
   "metadata": {},
   "outputs": [
    {
     "name": "stdout",
     "output_type": "stream",
     "text": [
      "['defenestrado', 'ventana', 'gato', 'ventana', 'defenestrado']\n"
     ]
    }
   ],
   "source": [
    "for p in palabras[:]:  # hace una copiade toda la lista\n",
    "    if len(p) > 6:\n",
    "        palabras.insert(0, p)\n",
    "\n",
    "print(palabras)"
   ]
  },
  {
   "cell_type": "markdown",
   "metadata": {},
   "source": [
    "Con for w in words:, el ejemplo intentaría crear una lista infinita, insertando defenestrado una y otra vez.<br>\n",
    "\n",
    "Un bucle <b>for</b> funciona como un iterador. Un <b>for</b> se utiliza para realizar acciones sobre elementos de una secuencia o cualquier elemento iterable, como cadenas, listas y otros objetos iterables que veremos más adelante.\n",
    "\n",
    "<b>Formato general para una declaración for</b>\n",
    "\n",
    "for item in object:<br>\n",
    "&nbsp;&nbsp;&nbsp;&nbsp;statements to do stuff\n",
    "\n",
    "También es común usar un rango como iterable en un <b>for</b>\n",
    "\n",
    "for i in range(0,10):<br>\n",
    "&nbsp;&nbsp;&nbsp;&nbsp;hace alguna cosa con i"
   ]
  },
  {
   "cell_type": "markdown",
   "metadata": {},
   "source": [
    "#### Ejemplo. El complemento de una secuencia de ADN se obtiene reemplazando todo As con Ts, Ts con As, Gs con Cs y Cs con Gs por Gs"
   ]
  },
  {
   "cell_type": "code",
   "execution_count": 4,
   "metadata": {},
   "outputs": [
    {
     "data": {
      "text/plain": [
       "'AGCAGGTGCGAGTAGCAGTAGCA'"
      ]
     },
     "execution_count": 4,
     "metadata": {},
     "output_type": "execute_result"
    }
   ],
   "source": [
    "dna = \"AGCAGGTGCGAGTAGCAGTAGCA\"\n",
    "dna"
   ]
  },
  {
   "cell_type": "code",
   "execution_count": 5,
   "metadata": {},
   "outputs": [
    {
     "name": "stdout",
     "output_type": "stream",
     "text": [
      "TCGTCCACGCTCATCGTCATCGT\n"
     ]
    }
   ],
   "source": [
    "#Transformar todas las A's en Ts, Ts en As, Gs en Cs y Cs en Gs\n",
    "complemento=\"\"  #Iniciando string vacia\n",
    "for x in dna:  #A cada iteración en este bucle, x será una letra del dna\n",
    "    if x==\"G\":  #Si x fuera G, concatena la string complemento con un C\n",
    "        complemento = complemento + \"C\"\n",
    "    elif x==\"C\": #Si x fuera C, concatena la string complemento con un T\n",
    "        complemento = complemento + \"G\"\n",
    "    elif x == \"A\":\n",
    "        complemento = complemento + \"T\"\n",
    "    elif x == \"T\":\n",
    "        complemento = complemento + \"A\"\n",
    "        \n",
    "print(complemento)"
   ]
  },
  {
   "cell_type": "markdown",
   "metadata": {},
   "source": [
    "<b>join</b> es un método de la clase string que concatena una cadena con las cadenas de una lista.<br><br>\n",
    "<b>reversed</b> devuelve una lista o cadena invertida.<br><br>\n",
    "Vamos a invertir una string y usar el método de join para formar una nueva cadena con el inverso complementario de la secuencia de DNA."
   ]
  },
  {
   "cell_type": "code",
   "execution_count": 6,
   "metadata": {},
   "outputs": [
    {
     "name": "stdout",
     "output_type": "stream",
     "text": [
      "DNA=AGCAGGTGCGAGTAGCAGTAGCA\n",
      "REVCOMP=TGCTACTGCTACTCGCACCTGCT\n"
     ]
    }
   ],
   "source": [
    "reverso_complementar = ''.join(reversed(complemento)) #conatena la string vacia '' con el complemento invertido\n",
    "print(f\"DNA={dna}\\nREVCOMP={reverso_complementar}\")"
   ]
  },
  {
   "cell_type": "code",
   "execution_count": 7,
   "metadata": {},
   "outputs": [
    {
     "name": "stdout",
     "output_type": "stream",
     "text": [
      "Caracter de índice 0 é um A\n",
      "Caracter de índice 1 é um G\n",
      "Caracter de índice 2 é um C\n",
      "Caracter de índice 3 é um A\n",
      "Caracter de índice 4 é um G\n",
      "Caracter de índice 5 é um G\n",
      "Caracter de índice 6 é um T\n",
      "Caracter de índice 7 é um G\n",
      "Caracter de índice 8 é um C\n",
      "Caracter de índice 9 é um G\n",
      "Caracter de índice 10 é um A\n",
      "Caracter de índice 11 é um G\n",
      "Caracter de índice 12 é um T\n",
      "Caracter de índice 13 é um A\n",
      "Caracter de índice 14 é um G\n",
      "Caracter de índice 15 é um C\n",
      "Caracter de índice 16 é um A\n",
      "Caracter de índice 17 é um G\n",
      "Caracter de índice 18 é um T\n",
      "Caracter de índice 19 é um A\n",
      "Caracter de índice 20 é um G\n",
      "Caracter de índice 21 é um C\n",
      "Caracter de índice 22 é um A\n"
     ]
    }
   ],
   "source": [
    "for i in range(len(dna)):\n",
    "    print(f\"Caracter de índice {i} é um {dna[i]}\")"
   ]
  },
  {
   "cell_type": "code",
   "execution_count": 8,
   "metadata": {},
   "outputs": [
    {
     "name": "stdout",
     "output_type": "stream",
     "text": [
      "Caracter de índice 0 é um A\n",
      "Caracter de índice 1 é um G\n",
      "Caracter de índice 2 é um C\n",
      "Caracter de índice 3 é um A\n",
      "Caracter de índice 4 é um G\n",
      "Caracter de índice 5 é um G\n",
      "Caracter de índice 6 é um T\n",
      "Caracter de índice 7 é um G\n",
      "Caracter de índice 8 é um C\n",
      "Caracter de índice 9 é um G\n",
      "Caracter de índice 10 é um A\n",
      "Caracter de índice 11 é um G\n",
      "Caracter de índice 12 é um T\n",
      "Caracter de índice 13 é um A\n",
      "Caracter de índice 14 é um G\n",
      "Caracter de índice 15 é um C\n",
      "Caracter de índice 16 é um A\n",
      "Caracter de índice 17 é um G\n",
      "Caracter de índice 18 é um T\n",
      "Caracter de índice 19 é um A\n",
      "Caracter de índice 20 é um G\n",
      "Caracter de índice 21 é um C\n",
      "Caracter de índice 22 é um A\n"
     ]
    }
   ],
   "source": [
    "#El ciclo for anterior también se puede hacer usando la función enumerate\n",
    "for i,x in enumerate(dna):\n",
    "    print(f\"Caracter de índice {i} é um {x}\")"
   ]
  },
  {
   "cell_type": "markdown",
   "metadata": {},
   "source": [
    "### Ejercicio 9:\n",
    "\n",
    "Escriba un programa que pida un número de dados y muestre los valores de ese número de dados, al azar.\n",
    "\n",
    "Nota. Utilizar la libreria random.\n",
    "Más información en:\n",
    "[1] https://stackoverflow.com/questions/3996904/generate-random-integers-between-0-and-9\n",
    "\n",
    "<b>Salida deseada:</b><br><br>\n",
    "TIRADA DE DADOS<br>\n",
    "Número de dados: 0<br>\n",
    "¡Imposible!<br>\n",
    "<br>\n",
    "TIRADA DE DADOS<br>\n",
    "Número de dados:  5<br>\n",
    "Dados: 3 5 1 1 3<br>"
   ]
  },
  {
   "cell_type": "code",
   "execution_count": 61,
   "metadata": {},
   "outputs": [
    {
     "name": "stdout",
     "output_type": "stream",
     "text": [
      "TIRADA DE DADOS\n",
      "Numero de dados: 5\n",
      "1 3 4 4 3 "
     ]
    }
   ],
   "source": [
    "# Escriba el código aqui\n",
    "import random\n",
    "print(\"TIRADA DE DADOS\")\n",
    "dado = int(input(\"Numero de dados: \"))\n",
    "\n",
    "if  (dado > 0):\n",
    "    for i in range(0,dado):\n",
    "        print(random.randint(1,6), end=\" \")\n",
    "else:\n",
    "    print(\"Imposible\")\n",
    "\n"
   ]
  },
  {
   "cell_type": "markdown",
   "metadata": {},
   "source": [
    "### Ejercicio 10:\n",
    "\n",
    "Escriba un programa que pida un número de jugadores y tire un dado para cada jugador. El jugador que tire el mayor dado ganará el juego.\n",
    "\n",
    "<b>Salida deseada:</b><br><br>\n",
    "TIRADAS DE DADO<br>\n",
    "Número de jugadores: 1<br>\n",
    "¡Imposible!<br>\n",
    "<br>\n",
    "TIRADAS DE DADO<br>\n",
    "Número de jugadores: 4<br>\n",
    "Jugador 1: 3<br>\n",
    "Jugador 2: 3<br>\n",
    "Jugador 3: 5<br>\n",
    "Jugador 4: 1<br>\n",
    "El ganador es el Jugador 3.<br>\n",
    "<br>\n",
    "TIRADAS DE DADO<br>\n",
    "Número de jugadores: 3<br>\n",
    "Jugador 1: 4<br>\n",
    "Jugador 2: 4<br>\n",
    "Jugador 3: 1<br>\n",
    "Los ganadores son el Jugador 1, Jugador 2."
   ]
  },
  {
   "cell_type": "code",
   "execution_count": 83,
   "metadata": {},
   "outputs": [
    {
     "name": "stdout",
     "output_type": "stream",
     "text": [
      "TIRADAS DE DADO\n",
      "Numero de Jugadores: 5\n",
      "Jugador 1 : 2\n",
      "Jugador 2 : 5\n",
      "Jugador 3 : 2\n",
      "Jugador 4 : 2\n",
      "Jugador 5 : 2\n",
      "Los ganadores son el Jugador 2 "
     ]
    }
   ],
   "source": [
    "# Escriba el código aqui\n",
    "import random\n",
    "print(\"TIRADAS DE DADO\")\n",
    "nj=int(input(\"Numero de Jugadores: \"))\n",
    "lista=[]\n",
    "ganador=0\n",
    "numeroju=0\n",
    "ganal=[]\n",
    "numel=[]\n",
    "if nj > 1:\n",
    "    for i in range(0,nj):\n",
    "        valor=random.randint(1,6)\n",
    "        lista.append(valor)\n",
    "        print(\"Jugador\",i+1,\":\",valor)\n",
    "        if valor > ganador :\n",
    "            ganador=valor\n",
    "        else:\n",
    "            continue\n",
    "else:\n",
    "    print(\"!Imposible\")\n",
    "print(\"Los ganadores son el\",end=\" \")\n",
    "i=0\n",
    "for j in lista :\n",
    "    if j==ganador:\n",
    "        print(\"Jugador\",i+1,end=\" \")\n",
    "        i+=1\n",
    "    else:\n",
    "        i+=1\n",
    "        continue\n",
    "    \n",
    "        \n",
    " "
   ]
  },
  {
   "cell_type": "markdown",
   "metadata": {},
   "source": [
    "### Ejercicio 11:\n",
    "\n",
    "Escriba un programa que pida un número de dados y tire esa cantidad de dados. El primer jugador obtiene un punto por cada dado par. El segundo jugador obtiene un punto por cada dado impar. El jugador que saque más puntos, gana.\n",
    "\n",
    "<b>Salida deseada:</b><br><br>\n",
    "PARES Y NONES<br>\n",
    "Número de dados: 0<br>\n",
    "¡Imposible!<br>\n",
    "<br>\n",
    "PARES Y NONES<br>\n",
    "Número de dados: 7<br>\n",
    "Dados: 4 5 2 3 2 1 6<br>\n",
    "Ha ganado el jugador de los pares.<br>\n",
    "<br>\n",
    "PARES Y NONES<br>\n",
    "Número de dados: 8<br>\n",
    "Dados: 1 4 1 3 5 6 6 2<br>\n",
    "Han empatado."
   ]
  },
  {
   "cell_type": "code",
   "execution_count": 62,
   "metadata": {},
   "outputs": [
    {
     "name": "stdout",
     "output_type": "stream",
     "text": [
      "TIRADA DE DADOS\n",
      "Numero de dados: 4\n",
      "Dados: 6 5 5 5 \n",
      "Ha ganado el jugador de los impares\n"
     ]
    }
   ],
   "source": [
    "# Escriba el código aqui\n",
    "import random\n",
    "print(\"TIRADA DE DADOS\")\n",
    "nd=int(input(\"Numero de dados: \"))\n",
    "print(\"Dados:\",end=\" \")\n",
    "lista=[]\n",
    "par=0\n",
    "imp=0\n",
    "if nd > 0:\n",
    "    for i in range(0,nd):\n",
    "        valor=random.randint(1,6)\n",
    "        print(valor, end=\" \")\n",
    "        lista.append(valor)\n",
    "else:\n",
    "    print(\"!Imposible\")\n",
    "\n",
    "for n in lista:\n",
    "    if n % 2 ==0:\n",
    "        par+=1\n",
    "    else:\n",
    "        imp+=1\n",
    "if par > imp:\n",
    "    print(\"\\nHa ganado el jugador de los pares\")\n",
    "elif imp > par :\n",
    "    print(\"\\nHa ganado el jugador de los impares\")\n",
    "else:\n",
    "    print(\"\\nHan empatado\")\n"
   ]
  },
  {
   "cell_type": "markdown",
   "metadata": {},
   "source": [
    "### Ejercicio 12:\n",
    "\n",
    "Escriba un programa que pida un número de dados y tire esa cantidad de dados. Si no salen dos dados iguales seguidos, el jugador gana. Si salen, pierde.\n",
    "\n",
    "<b>Salida deseada:</b><br><br>\n",
    "DADOS IGUALES<br>\n",
    "Número de dados: 1<br>\n",
    "¡Imposible!<br>\n",
    "<br>\n",
    "DADOS IGUALES<br>\n",
    "Número de dados: 6<br>\n",
    "Dados: 3 1 1 4 6 2<br>\n",
    "El jugador ha perdido.<br>\n",
    "<br>\n",
    "DADOS IGUALES<br>\n",
    "Número de dados: 4<br>\n",
    "Dados: 4 2 5 3<br>\n",
    "El jugador ha ganado.<br>"
   ]
  },
  {
   "cell_type": "code",
   "execution_count": 67,
   "metadata": {},
   "outputs": [
    {
     "name": "stdout",
     "output_type": "stream",
     "text": [
      "DADOS IGUALES\n",
      "Numero de dados: 3\n",
      "Dados: 1 6 1 \n",
      "El jugador ha ganado\n"
     ]
    }
   ],
   "source": [
    "# Escriba el código aqui\n",
    "import random\n",
    "print(\"DADOS IGUALES\")\n",
    "nd=int(input(\"Numero de dados: \"))\n",
    "print(\"Dados:\",end=\" \")\n",
    "lista=[]\n",
    "p=False\n",
    "if nd > 0:\n",
    "    for i in range(0,nd):\n",
    "        valor=random.randint(1,6)\n",
    "        print(valor, end=\" \")\n",
    "        lista.append(valor)\n",
    "else:\n",
    "    print(\"!Imposible\")\n",
    "for n in range(0,len(lista)-1):\n",
    "    if lista[n] == lista[n+1] :\n",
    "        p=True\n",
    "if p :\n",
    "    print(\"\\nEl jugador ha perdido\")\n",
    "else :\n",
    "    print(\"\\nEl jugador ha ganado\")\n"
   ]
  },
  {
   "cell_type": "markdown",
   "metadata": {},
   "source": [
    "### Ejercicio 13:\n",
    "\n",
    "Escribir un programa que pregunte al usuario una cantidad a invertir, el interés anual y el número de años, y muestre por pantalla el capital obtenido en la inversión cada año que dura la inversión.\n",
    "\n",
    "<b>Salida deseada:</b><br><br>\n",
    "¿Cantidad a invertir?  1000<br>\n",
    "¿Interés porcentual anual?  10<br>\n",
    "¿Años? 5<br>\n",
    "Capital tras 1 años: 1100.00<br>\n",
    "Capital tras 2 años: 1210.00<br>\n",
    "Capital tras 3 años: 1331.00<br>\n",
    "Capital tras 4 años: 1464.10<br>\n",
    "Capital tras 5 años: 1610.51<br>"
   ]
  },
  {
   "cell_type": "code",
   "execution_count": 22,
   "metadata": {},
   "outputs": [
    {
     "name": "stdout",
     "output_type": "stream",
     "text": [
      "¿Cantidad a invertir?: 1000\n",
      "¿Interés porcentual anual?: 10\n",
      "¿Años?: 5\n",
      "Capital tras 1 años: 1100.00\n",
      "Capital tras 2 años: 1210.00\n",
      "Capital tras 3 años: 1331.00\n",
      "Capital tras 4 años: 1464.10\n",
      "Capital tras 5 años: 1610.51\n"
     ]
    }
   ],
   "source": [
    "# Escriba el código aqui\n",
    "canInver=int(input(\"¿Cantidad a invertir?: \"))\n",
    "inAn=int(input(\"¿Interés porcentual anual?: \"))\n",
    "año=int(input(\"¿Años?: \"))\n",
    "cap=canInver\n",
    "for i in range(1,año+1):\n",
    "    cap+=((cap*inAn)/100)\n",
    "    print(\"Capital tras\",i,\"años:\",end=\" \")\n",
    "    print(\"{0:.2f}\".format(cap))\n"
   ]
  },
  {
   "cell_type": "markdown",
   "metadata": {},
   "source": [
    "# Ejercicio 14:\n",
    "\n",
    "Escribir un programa que pida al usuario un número entero y muestre por pantalla un triángulo rectángulo (\"* \") como el de más abajo, de altura el número introducido.\n",
    "\n",
    "<b>Salida deseada:</b><br><br>\n",
    "Introduce la altura del triángulo (entero positivo) 5<br>\n",
    "*<br>\n",
    "\\* *<br>\n",
    "\\* * *<br>\n",
    "\\* * * *<br>\n",
    "\\* * * * * "
   ]
  },
  {
   "cell_type": "code",
   "execution_count": 6,
   "metadata": {},
   "outputs": [
    {
     "name": "stdout",
     "output_type": "stream",
     "text": [
      "Introduce la altura del triángulo (entero positivo) 5\n",
      "\n",
      "*\n",
      "**\n",
      "***\n",
      "****\n",
      "*****\n"
     ]
    }
   ],
   "source": [
    "# Escriba el código aqui\n",
    "\n",
    "\n",
    "num=int(input(\"Introduce la altura del triángulo (entero positivo) \"))\n",
    "for a in range(0,num+1):\n",
    "    print(\"*\"*a)\n",
    "\n",
    "\n"
   ]
  },
  {
   "cell_type": "markdown",
   "metadata": {},
   "source": [
    "### Ejercicio 15:\n",
    "\n",
    "Escribir un programa que pida al usuario un número entero y muestre por pantalla un triángulo rectángulo como el de más abajo.\n",
    "\n",
    "<b>Salida deseada:</b><br><br>\n",
    "Introduce la altura del triángulo (entero positivo):  9<br>\n",
    "\n",
    "1 <br>\n",
    "3 1 <br>\n",
    "5 3 1 <br>\n",
    "7 5 3 1 <br>\n",
    "9 7 5 3 1"
   ]
  },
  {
   "cell_type": "code",
   "execution_count": 155,
   "metadata": {},
   "outputs": [
    {
     "name": "stdout",
     "output_type": "stream",
     "text": [
      "Introduce la altura del triangulo (entero positivo): 9\n",
      "1\n",
      "3 1\n",
      "5 3 1\n",
      "7 5 3 1\n",
      "9 7 5 3 1\n"
     ]
    }
   ],
   "source": [
    "# Escriba el código aqui\n",
    "lista=[]\n",
    "num=int(input(\"Introduce la altura del triangulo (entero positivo): \"))\n",
    "\n",
    "for n in range(1,num+1):\n",
    "    if not n %2==0:\n",
    "        lista.append(n)\n",
    "        lista.reverse()\n",
    "        print(*lista)\n",
    "        lista.reverse()\n",
    "       "
   ]
  },
  {
   "cell_type": "markdown",
   "metadata": {},
   "source": [
    "### Ejercicio 16:\n",
    "\n",
    "Escriba un programa que pida un número entero mayor que cero y que escriba sus divisores.\n",
    "\n",
    "<b>Salida deseada:</b><br><br>\n",
    "DIVISORES<br>\n",
    "Escriba un número mayor que cero: -5<br>\n",
    "¡Le he pedido un número entero mayor que cero!<br>\n",
    "<br>\n",
    "DIVISORES<br>\n",
    "Escriba un número entero mayor que cero: 200<br>\n",
    "Los divisores de 200 son 1 2 4 5 8 10 20 25 40 50 100 200"
   ]
  },
  {
   "cell_type": "code",
   "execution_count": 156,
   "metadata": {},
   "outputs": [
    {
     "name": "stdout",
     "output_type": "stream",
     "text": [
      "DIVISORES\n",
      "Escriba un nùmero mayor que cero: 521\n",
      "Los divisores de 521 son 1 521\n"
     ]
    }
   ],
   "source": [
    "# Escriba el código aqui\n",
    "print(\"DIVISORES\")\n",
    "lista=[]\n",
    "num=int(input(\"Escriba un nùmero mayor que cero: \"))\n",
    "if num<=0:\n",
    "    print(\"¡Le he pedido un número entero mayor que cero!\")\n",
    "else:\n",
    "    for n in range(1,num+1):\n",
    "        if num%n==0:\n",
    "            lista.append(n)\n",
    "    print(f\"Los divisores de {num} son\",*lista)\n",
    "        "
   ]
  },
  {
   "cell_type": "markdown",
   "metadata": {},
   "source": [
    "### Ejercicio 17:\n",
    "\n",
    "Escribir un programa que pida al usuario un número entero y muestre por pantalla un triángulo rectángulo como el de número de primos.\n",
    "\n",
    "<b>Salida deseada:</b><br><br>\n",
    "Introduce la altura del triángulo (entero positivo):  20<br>\n",
    "\n",
    "1 <br>\n",
    "3 1 <br>\n",
    "5 3 1 <br>\n",
    "7 5 3 1 <br>\n",
    "11 7 5 3 1 <br>\n",
    "13 11 7 5 3 1 <br>\n",
    "17 13 11 7 5 3 1 <br>\n",
    "19 17 13 11 7 5 3 1"
   ]
  },
  {
   "cell_type": "code",
   "execution_count": 159,
   "metadata": {},
   "outputs": [
    {
     "name": "stdout",
     "output_type": "stream",
     "text": [
      "Introduce la altura del triangulo (entero positivo): 23\n",
      "2\n",
      "3 2\n",
      "5 3 2\n",
      "7 5 3 2\n",
      "11 7 5 3 2\n",
      "13 11 7 5 3 2\n",
      "17 13 11 7 5 3 2\n",
      "19 17 13 11 7 5 3 2\n",
      "23 19 17 13 11 7 5 3 2\n"
     ]
    }
   ],
   "source": [
    "# Escriba el código aqui\n",
    "\n",
    "num=int(input(\"Introduce la altura del triangulo (entero positivo): \"))\n",
    "\n",
    "lista=list(range(2,num+1))\n",
    "for n in lista:\n",
    "    if n>2 and n%2==0:\n",
    "        lista.remove(n)\n",
    "for n in lista:\n",
    "    if n>3 and n%3==0:\n",
    "        lista.remove(n)\n",
    "for n in lista:\n",
    "\n",
    "    if n>5 and n%5==0:\n",
    "        lista.remove(n)\n",
    "for n in lista:\n",
    "\n",
    "    if n>7 and n%7==0:\n",
    "        lista.remove(n)\n",
    "lista2=[]\n",
    "for n in lista:\n",
    "    lista2.append(n)\n",
    "    lista2.reverse()\n",
    "    print(*lista2)\n",
    "    lista2.reverse()\n"
   ]
  },
  {
   "cell_type": "markdown",
   "metadata": {},
   "source": [
    "### Ejercicio 18:\n",
    "\n",
    "Escriba un programa que pida dos números enteros y escriba la suma de todos los enteros desde el primer número hasta el segundo.\n",
    "\n",
    "<b>Salida deseada:</b><br><br>\n",
    "SUMA ENTRE VALORES<br>\n",
    "Escriba un número entero positivo: -5<br>\n",
    "¡Le he pedido un número entero positivo!<br>\n",
    "<br>\n",
    "SUMA ENTRE VALORES<br>\n",
    "Escriba un número entero positivo: 7<br>\n",
    "Escriba un número entero mayor que 7: 7<br>\n",
    "¡Le he pedido un número entero mayor que 7!<br>\n",
    "<br>\n",
    "SUMA ENTRE VALORES<br>\n",
    "Escriba un número entero positivo: 30<br>\n",
    "Escriba un número entero mayor que 30: 32<br>\n",
    "30 + 31 + 32 = 93<br>"
   ]
  },
  {
   "cell_type": "code",
   "execution_count": 211,
   "metadata": {},
   "outputs": [
    {
     "name": "stdout",
     "output_type": "stream",
     "text": [
      "SUMA ENTRE VALORES\n",
      "Escriba un número entero positivo: 1\n",
      "Escriba un número entero mayor que 1:100\n",
      "1 + 2 + 3 + 4 + 5 + 6 + 7 + 8 + 9 + 10 + 11 + 12 + 13 + 14 + 15 + 16 + 17 + 18 + 19 + 20 + 21 + 22 + 23 + 24 + 25 + 26 + 27 + 28 + 29 + 30 + 31 + 32 + 33 + 34 + 35 + 36 + 37 + 38 + 39 + 40 + 41 + 42 + 43 + 44 + 45 + 46 + 47 + 48 + 49 + 50 + 51 + 52 + 53 + 54 + 55 + 56 + 57 + 58 + 59 + 60 + 61 + 62 + 63 + 64 + 65 + 66 + 67 + 68 + 69 + 70 + 71 + 72 + 73 + 74 + 75 + 76 + 77 + 78 + 79 + 80 + 81 + 82 + 83 + 84 + 85 + 86 + 87 + 88 + 89 + 90 + 91 + 92 + 93 + 94 + 95 + 96 + 97 + 98 + 99 + 100 = 5050\n"
     ]
    }
   ],
   "source": [
    "# Escriba el código aqui\n",
    "lista=[]\n",
    "print(\"SUMA ENTRE VALORES\")\n",
    "num1=int(input(\"Escriba un número entero positivo: \"))\n",
    "if num1<0:\n",
    "    print(\"¡Le he pedido un número entero positivo!\")\n",
    "else:\n",
    "    num2=int(input(f\"Escriba un número entero mayor que {num1}:\"))\n",
    "    if num2<=num1:\n",
    "        print(\"¡Le he pedido un número entero mayor que\", num1,\"!\")\n",
    "    else:\n",
    "        for n in range(num1,num2+1):\n",
    "            lista.append(n)\n",
    "        suma=sum(lista)\n",
    "        print(*lista, sep=\" + \",end=\"\")\n",
    "        print(\" =\",suma)\n",
    "        "
   ]
  },
  {
   "cell_type": "markdown",
   "metadata": {},
   "source": [
    "### Ejercicio 19:\n",
    "\n",
    "Escriba un programa que pida un número entero mayor que cero y calcule su factorial.\n",
    "\n",
    "<b>Salida deseada:</b><br><br>\n",
    "FACTORIAL<br>\n",
    "Escriba un número entero mayor que cero: -5<br>\n",
    "¡Le he pedido un número entero mayor que cero!<br>\n",
    "<br>\n",
    "FACTORIAL<br>\n",
    "Escriba un número entero mayor que cero: 5<br>\n",
    "El factorial de 5 es 120<br>"
   ]
  },
  {
   "cell_type": "code",
   "execution_count": 163,
   "metadata": {},
   "outputs": [
    {
     "name": "stdout",
     "output_type": "stream",
     "text": [
      "FACTORIAL\n",
      "Escriba un número entero mayor que cero: 1\n",
      "El factorial de 1 es 1\n"
     ]
    }
   ],
   "source": [
    "# Escriba el código aqui\n",
    "print(\"FACTORIAL\")\n",
    "num=int(input(\"Escriba un número entero mayor que cero: \"))\n",
    "if num<0:\n",
    "    print(\"¡Le he pedido un número entero mayor que cero!\")\n",
    "else:\n",
    "    fact=1\n",
    "    for n in range(1,num+1):\n",
    "        fact=fact*n\n",
    "print(f\"El factorial de {num} es {fact}\")\n",
    "\n"
   ]
  },
  {
   "cell_type": "markdown",
   "metadata": {},
   "source": [
    "### Ejercicio 20:\n",
    "\n",
    "Escribir un programa que pida al usuario un número entero (del 1 al 10) y genere la matriz caracol.\n",
    "\n",
    "<b>Salida deseada:</b><br><br>\n",
    "\n",
    "Introduce un número (entero positivo):  3<br>\n",
    "\n",
    "1 2 3<br>\n",
    "8 9 4<br>\n",
    "7 6 5<br>"
   ]
  },
  {
   "cell_type": "code",
   "execution_count": 127,
   "metadata": {},
   "outputs": [
    {
     "name": "stdout",
     "output_type": "stream",
     "text": [
      "Introduce un número (entero positivo): 9\n"
     ]
    },
    {
     "ename": "TypeError",
     "evalue": "append() takes exactly one argument (0 given)",
     "output_type": "error",
     "traceback": [
      "\u001b[0;31m---------------------------------------------------------------------------\u001b[0m",
      "\u001b[0;31mTypeError\u001b[0m                                 Traceback (most recent call last)",
      "\u001b[0;32m<ipython-input-127-d9d67988cf83>\u001b[0m in \u001b[0;36m<module>\u001b[0;34m\u001b[0m\n\u001b[1;32m      3\u001b[0m \u001b[0mmatriz\u001b[0m\u001b[0;34m=\u001b[0m\u001b[0;34m[\u001b[0m\u001b[0;34m]\u001b[0m\u001b[0;34m\u001b[0m\u001b[0;34m\u001b[0m\u001b[0m\n\u001b[1;32m      4\u001b[0m \u001b[0;32mfor\u001b[0m \u001b[0mi\u001b[0m \u001b[0;32min\u001b[0m \u001b[0mrange\u001b[0m\u001b[0;34m(\u001b[0m\u001b[0mn\u001b[0m\u001b[0;34m)\u001b[0m\u001b[0;34m:\u001b[0m\u001b[0;34m\u001b[0m\u001b[0;34m\u001b[0m\u001b[0m\n\u001b[0;32m----> 5\u001b[0;31m     \u001b[0mmatriz\u001b[0m\u001b[0;34m.\u001b[0m\u001b[0mappend\u001b[0m\u001b[0;34m(\u001b[0m\u001b[0;34m)\u001b[0m\u001b[0;34m\u001b[0m\u001b[0;34m\u001b[0m\u001b[0m\n\u001b[0m\u001b[1;32m      6\u001b[0m     \u001b[0;32mfor\u001b[0m \u001b[0mj\u001b[0m \u001b[0;32min\u001b[0m \u001b[0mrange\u001b[0m\u001b[0;34m(\u001b[0m\u001b[0;36m1\u001b[0m\u001b[0;34m,\u001b[0m\u001b[0mn\u001b[0m\u001b[0;34m+\u001b[0m\u001b[0;36m1\u001b[0m\u001b[0;34m)\u001b[0m\u001b[0;34m:\u001b[0m\u001b[0;34m\u001b[0m\u001b[0;34m\u001b[0m\u001b[0m\n\u001b[1;32m      7\u001b[0m         \u001b[0mmatriz\u001b[0m\u001b[0;34m[\u001b[0m\u001b[0mi\u001b[0m\u001b[0;34m]\u001b[0m\u001b[0;34m.\u001b[0m\u001b[0mappend\u001b[0m\u001b[0;34m(\u001b[0m\u001b[0mj\u001b[0m\u001b[0;34m)\u001b[0m\u001b[0;34m\u001b[0m\u001b[0;34m\u001b[0m\u001b[0m\n",
      "\u001b[0;31mTypeError\u001b[0m: append() takes exactly one argument (0 given)"
     ]
    }
   ],
   "source": [
    "# Escriba el código aqui\n",
    "n=int(input(\"Introduce un número (entero positivo): \"))\n",
    "matriz=[]\n",
    "for i in range(n):\n",
    "    matriz.append()\n",
    "    for j in range(1,n+1):\n",
    "        matriz[i].append(j)\n",
    "        \n",
    "    \n",
    "print (matriz)\n",
    "    \n",
    "    \n",
    "\n",
    "        \n",
    "\n"
   ]
  },
  {
   "cell_type": "code",
   "execution_count": 123,
   "metadata": {},
   "outputs": [
    {
     "name": "stdout",
     "output_type": "stream",
     "text": [
      "[[1, 2], [1, 2], [1, 2]]\n"
     ]
    }
   ],
   "source": [
    "# La mas sencilla e intuitiva\n",
    "matriz = []\n",
    "for i in range(3):\n",
    "    matriz.append([])\n",
    "    for j in range(1,3):\n",
    "        matriz[i].append(j)\n",
    "print (matriz)"
   ]
  },
  {
   "cell_type": "markdown",
   "metadata": {},
   "source": [
    "# 2.4. La Sentencia while"
   ]
  },
  {
   "cell_type": "markdown",
   "metadata": {},
   "source": [
    "Una instrucción while prueba una condición inicial y comienza a ejecutar los comandos del bloque si la condición es verdadera. Mientras la condición permanezca verdadera, los comandos de bucle se ejecutan repetidamente.\n",
    "\n",
    "Sintaxis:\n",
    "\n",
    "mientras condición:\n",
    "\n",
    "     comandos\n",
    "\n",
    "#### Ejemplo de declaración while"
   ]
  },
  {
   "cell_type": "code",
   "execution_count": 9,
   "metadata": {},
   "outputs": [
    {
     "name": "stdout",
     "output_type": "stream",
     "text": [
      "1\n",
      "2\n",
      "3\n",
      "4\n",
      "5\n",
      "6\n",
      "7\n",
      "8\n",
      "9\n",
      "10\n"
     ]
    }
   ],
   "source": [
    "i=0\n",
    "while i < 10:\n",
    "    i+=1\n",
    "    print(i)"
   ]
  },
  {
   "cell_type": "code",
   "execution_count": 10,
   "metadata": {},
   "outputs": [],
   "source": [
    "# Iniciando con una lista vacia\n",
    "nombres = []\n",
    "\n",
    "# Defina una string llamada nuevo_nombre con cualquier valor diferente de \"salir\"\n",
    "nuevo_nombre = ''"
   ]
  },
  {
   "cell_type": "markdown",
   "metadata": {},
   "source": [
    "El ciclo while se ejecutará mientras el usuario ingrese nombres distintos a \"salir\", almacenando cada nombre ingresado en una lista."
   ]
  },
  {
   "cell_type": "code",
   "execution_count": null,
   "metadata": {},
   "outputs": [],
   "source": [
    "while nuevo_nombre != 'salir':\n",
    "    # Pida que el usuario ingrese un nombre\n",
    "    nuevo_nombre = input(\"Ingrese un nombre o la palabra salir: \")\n",
    "    # Adiciona el nombre al final de la lista de nombres\n",
    "    nombres.append(nuevo_nombre)\n",
    "\n",
    "#Extraiga la palabra salir de la lista de names (\"salir\")\n",
    "ultima = nombres.pop()\n",
    "# Imprime la lista de nombres\n",
    "print(nombres)"
   ]
  },
  {
   "cell_type": "markdown",
   "metadata": {},
   "source": [
    "El control de bucles break, continue y pass permite:"
   ]
  },
  {
   "cell_type": "code",
   "execution_count": 11,
   "metadata": {},
   "outputs": [
    {
     "name": "stdout",
     "output_type": "stream",
     "text": [
      "Input > xxsa\n",
      "xxsa\n",
      "Input > done\n",
      "Done!\n"
     ]
    }
   ],
   "source": [
    "while True:\n",
    "    line = input('Input > ')\n",
    "    if line == 'done':\n",
    "        break\n",
    "    print(line)\n",
    "print('Done!')"
   ]
  },
  {
   "cell_type": "code",
   "execution_count": 1,
   "metadata": {},
   "outputs": [
    {
     "name": "stdout",
     "output_type": "stream",
     "text": [
      "Input > o\n",
      "o\n",
      "Input > done\n",
      "Done!\n"
     ]
    }
   ],
   "source": [
    "while True:\n",
    "    line = input('Input > ')\n",
    "    if line[0] == '#':\n",
    "        continue\n",
    "    if line == 'done':\n",
    "        break\n",
    "    print(line)\n",
    "print('Done!')"
   ]
  },
  {
   "cell_type": "markdown",
   "metadata": {},
   "source": [
    "Más información:<br>\n",
    "[1] https://www.pythonmania.net/es/2013/04/05/control-de-bucles-break-continue-y-pass/"
   ]
  },
  {
   "cell_type": "markdown",
   "metadata": {},
   "source": [
    "### Ejercicio 21:\n",
    "\n",
    "Escriba un programa que pida dos números enteros. El programa pedirá de nuevo el segundo número mientras no sea mayor que el primero. El programa terminará escribiendo los dos números.\n",
    "\n",
    "<b>Salida deseada:</b><br><br>\n",
    "NÚMERO MAYOR<br>\n",
    "Escriba un número: 6<br>\n",
    "Escriba un número mayor que 6: 6<br>\n",
    "6 no es mayor que 6. Inténtelo de nuevo: 1<br>\n",
    "1 no es mayor que 6. Inténtelo de nuevo: 8<br>\n",
    "<br>\n",
    "Los números que ha escrito son 6 y 8."
   ]
  },
  {
   "cell_type": "code",
   "execution_count": 319,
   "metadata": {},
   "outputs": [
    {
     "name": "stdout",
     "output_type": "stream",
     "text": [
      "NUMERO MAYOR\n",
      "Escriba un numero: 6\n",
      "Escriba un numero mayor que 6:6\n",
      "6  no es mayor que 6\n",
      "Intentelo de nuevo: 1\n",
      "1  no es mayor que 6\n",
      "Intentelo de nuevo: 8\n",
      "Los numeros que ha escrito son  6 y 8\n"
     ]
    }
   ],
   "source": [
    "# Escriba el código aqui\n",
    "print(\"NUMERO MAYOR\")\n",
    "num1=int(input(\"Escriba un numero: \"))\n",
    "num2=int(input(f\"Escriba un numero mayor que {num1}:\"))\n",
    "while not num2 > num1:\n",
    "    print (num2,\" no es mayor que\", num1)\n",
    "    num2=int(input (\"Intentelo de nuevo: \"))           \n",
    "print(\"Los numeros que ha escrito son \",num1,\"y\",num2)\n",
    "    "
   ]
  },
  {
   "cell_type": "markdown",
   "metadata": {},
   "source": [
    "### Ejercicio 22:\n",
    "\n",
    "Escriba un programa que pida números decimales mientras el usuario escriba número mayores que el anterior.\n",
    "\n",
    "\n",
    "<b>Salida deseada:</b><br><br>\n",
    "NÚMEROS MAYORES<br>\n",
    "Escriba un número: 7<br>\n",
    "Escriba un número mayor que 7.0: 1<br>\n",
    "1.0 no es mayor que 7.0.<br>\n",
    "<br>\n",
    "NÚMEROS MAYORES<br>\n",
    "Escriba un número: 9.3<br>\n",
    "Escriba un número mayor que 9.3: 9.3<br>\n",
    "9.3 no es mayor que 9.3.<br>\n",
    "<br>\n",
    "NÚMEROS MAYORES<br>\n",
    "Escriba un número: 4.5<br>\n",
    "Escriba un número mayor que 4.5: 5<br>\n",
    "Escriba otro número mayor que 5.0: 7.3<br>\n",
    "Escriba otro número mayor que 5.0: 2<br>\n",
    "2.0 no es mayor que 4.5."
   ]
  },
  {
   "cell_type": "code",
   "execution_count": 44,
   "metadata": {},
   "outputs": [
    {
     "name": "stdout",
     "output_type": "stream",
     "text": [
      "NUMERO MAYOR\n",
      "Escriba un numero: 4\n",
      "Escriba un numero mayor que 4.0: 5\n",
      "Escriba otro numero mayor que 5.0: 6\n",
      "Escriba otro numero mayor que 6.0: 7\n",
      "Escriba otro numero mayor que 7.0: 1\n",
      "1.0  no es mayor que  4.0\n"
     ]
    }
   ],
   "source": [
    "# Escriba el código aqui\n",
    "print(\"NUMERO MAYOR\")\n",
    "num1=float(input(\"Escriba un numero: \"))\n",
    "num2=float(input(f\"Escriba un numero mayor que {num1}: \"))\n",
    "while  num2 > num1:\n",
    "    num2=float(input (f\"Escriba otro numero mayor que {num2}: \"))           \n",
    "print(num2,\" no es mayor que \",num1)\n"
   ]
  },
  {
   "cell_type": "markdown",
   "metadata": {},
   "source": [
    "### Ejercicio 23:\n",
    "\n",
    "Escriba un programa que pida un valor límite positivo y a continuación pida números hasta que la suma de los números introducidos supere el límite inicial.\n",
    "\n",
    "\n",
    "<b>Salida deseada:</b><br><br>\n",
    "HASTA EL LÍMITE<br>\n",
    "Escriba el valor límite: -3<br>\n",
    "El límite debe ser mayor que 0. Inténtelo de nuevo: 0<br>\n",
    "El límite debe ser mayor que 0. Inténtelo de nuevo: 5.5<br>\n",
    "Escriba un número: 7.2<br>\n",
    "Ha superado el límite. La suma de los números introducidos es 7.2.<br>\n",
    "<br>\n",
    "HASTA EL LÍMITE<br>\n",
    "Escriba el valor límite: 12<br>\n",
    "Escriba un número: 5.2<br>\n",
    "Escriba otro número: -1<br>\n",
    "Escriba otro número: 9<br>\n",
    "Ha superado el límite. La suma de los números introducidos es 13.2."
   ]
  },
  {
   "cell_type": "code",
   "execution_count": 171,
   "metadata": {},
   "outputs": [
    {
     "name": "stdout",
     "output_type": "stream",
     "text": [
      "HASTA EL LIMITE\n",
      "Escriba el valor limite: -3\n",
      "El límite debe ser mayor que 0. Inténtelo de nuevo: 0\n",
      "El límite debe ser mayor que 0. Inténtelo de nuevo: 5.5\n",
      "Escriba un numero: 7.2\n",
      "Ha superado el límite. La suma de los números introducidos es 7.2.\n"
     ]
    }
   ],
   "source": [
    "# Escriba el código aqui\n",
    "print(\"HASTA EL LIMITE\")\n",
    "lista=[num1]\n",
    "l=float(input(\"Escriba el valor limite: \"))\n",
    "while l<=0:\n",
    "    l=float(input(\"El límite debe ser mayor que 0. Inténtelo de nuevo: \"))\n",
    "    \n",
    "num1=float(input(\"Escriba un numero: \"))\n",
    "if num1>l:\n",
    "    print(f\"Ha superado el límite. La suma de los números introducidos es {num1}.\")\n",
    "    \n",
    "else:\n",
    "    while True:\n",
    "        num2=float(input(\"Escriba otro numero: \"))\n",
    "        lista.append(num2) \n",
    "        suma=sum(lista)\n",
    "        if suma>l:\n",
    "            print(f\"Ha superado el límite. La suma de los números introducidos es {suma}.\")\n",
    "            break\n",
    "\n",
    "        "
   ]
  },
  {
   "cell_type": "markdown",
   "metadata": {},
   "source": [
    "### Ejercicio 24:\n",
    "\n",
    "Escriba un programa que calcule la descomposición en factores primos de un número.\n",
    "\n",
    "<b>Salida deseada:</b><br><br>\n",
    "DESCOMPOSICIÓN EN FACTORES PRIMOS<br>\n",
    "Escriba un número entero mayor que 1: 500<br>\n",
    "Descomposición en factores primos: 2 2 5 5 5<br>\n",
    "<br>\n",
    "DESCOMPOSICIÓN EN NÚMEROS PRIMOS<br>\n",
    "Escriba un número entero mayor que 1: 521<br>\n",
    "Descomposición en factores primos: 521<br>\n",
    "<br>\n",
    "DESCOMPOSICIÓN EN NÚMEROS PRIMOS<br>\n",
    "Escriba un número entero mayor que 1: 1<br>\n",
    "1 no es mayor que 1. Inténtelo de nuevo: 720<br>\n",
    "Descomposición en factores primos: 2 2 2 2 3 3 5"
   ]
  },
  {
   "cell_type": "code",
   "execution_count": 209,
   "metadata": {},
   "outputs": [
    {
     "name": "stdout",
     "output_type": "stream",
     "text": [
      "DESCOMPOSICIÓN EN FACTORES PRIMOS\n",
      "Escriba un número entero mayor que 1: 720\n",
      "Descomposiciòn en factores primos: 2 2 2 2 3 3 5\n"
     ]
    }
   ],
   "source": [
    "# Escriba el código aqui\n",
    "def esPrimo(n):\n",
    "        for i in range(2,n):\n",
    "            if (n%i)==0:\n",
    "                return False\n",
    "        return True\n",
    "\n",
    "lista=[]\n",
    "print(\"DESCOMPOSICIÓN EN FACTORES PRIMOS\")\n",
    "num=int(input(\"Escriba un número entero mayor que 1: \"))\n",
    "while num<=1:\n",
    "        num=int(input(f\"{num} no es mayor que 1. Inténtelo de nuevo: \"))\n",
    "\n",
    "if esPrimo(num):\n",
    "    print (f\"Descomposición en factores primos: {num}\")\n",
    "else:   \n",
    "    while num%2==0:\n",
    "        num=num/2\n",
    "        lista.append(2)\n",
    "    while num%3==0:\n",
    "        num=num/3\n",
    "        lista.append(3)\n",
    "    while num%5==0:\n",
    "        num=num/5\n",
    "        lista.append(5)\n",
    "    while num%7==0:\n",
    "        num=num/7\n",
    "        lista.append(7)\n",
    "    print(\"Descomposiciòn en factores primos:\",*lista)\n",
    "\n",
    "    \n",
    "\n"
   ]
  },
  {
   "cell_type": "markdown",
   "metadata": {},
   "source": [
    "### Ejercicio 25:\n",
    "\n",
    "Escriba un programa que muestre números al azar del 1 al 6 mientras lo pida el usuario. El programa debe mostrar la suma de los números anteriores.\n",
    "\n",
    "<b>Salida deseada:</b><br>\n",
    "\n",
    "Juego del Azar<br>\n",
    "Pulse Intro para lanzar el dado. Pulse otra tecla e Intro para terminar:<br>\n",
    "Tirada: 2 - Suma: 2<br>\n",
    "<br>\n",
    "Pulse Intro para lanzar el dado. Pulse otra tecla e Intro para terminar:<br>\n",
    "Tirada: 5 - Suma: 7<br>\n",
    "<br>\n",
    "Pulse Intro para lanzar el dado. Pulse otra tecla e Intro para terminar:<br>\n",
    "Tirada: 4 - Suma: 11<br>\n",
    "<br>\n",
    "Pulse Intro para lanzar el dado. Pulse otra tecla e Intro para terminar: x<br>\n",
    "Programa terminado."
   ]
  },
  {
   "cell_type": "code",
   "execution_count": 287,
   "metadata": {},
   "outputs": [
    {
     "name": "stdout",
     "output_type": "stream",
     "text": [
      "Juego del Azar\n",
      "Pulse Intro para lanzar el dado. Pulse otra tecla e Intro para terminar:\n",
      "Tirada: 6 - Suma: 6\n",
      "Pulse Intro para lanzar el dado. Pulse otra tecla e Intro para terminar:\n",
      "Tirada: 3 - Suma: 9\n",
      "Pulse Intro para lanzar el dado. Pulse otra tecla e Intro para terminar:\n",
      "Tirada: 5 - Suma: 14\n",
      "Pulse Intro para lanzar el dado. Pulse otra tecla e Intro para terminar:\n",
      "Tirada: 5 - Suma: 19\n",
      "Pulse Intro para lanzar el dado. Pulse otra tecla e Intro para terminar:\n",
      "Tirada: 6 - Suma: 25\n",
      "Pulse Intro para lanzar el dado. Pulse otra tecla e Intro para terminar:\n",
      "Tirada: 4 - Suma: 29\n",
      "Pulse Intro para lanzar el dado. Pulse otra tecla e Intro para terminar:\n",
      "Tirada: 4 - Suma: 33\n",
      "Pulse Intro para lanzar el dado. Pulse otra tecla e Intro para terminar:x\n",
      "Programa terminado.\n"
     ]
    }
   ],
   "source": [
    "# Escriba el código aqui\n",
    "import random\n",
    "print (\"Juego del Azar\")\n",
    "i=input(\"Pulse Intro para lanzar el dado. Pulse otra tecla e Intro para terminar:\")\n",
    "suma=0\n",
    "while i==\"\":\n",
    "    \n",
    "    num=random.randint(1,6)\n",
    "    suma=suma+num\n",
    "    print(f\"Tirada: {num} - Suma: {suma}\")\n",
    "    i=input(\"Pulse Intro para lanzar el dado. Pulse otra tecla e Intro para terminar:\")\n",
    "print (\"Programa terminado.\")\n",
    "\n",
    "\n"
   ]
  },
  {
   "cell_type": "markdown",
   "metadata": {},
   "source": [
    "### Ejercicio 26:\n",
    "\n",
    "Escriba un programa que pida un número del 1 al 6, un número de jugadores y tire un dado para cada jugador. El 1er jugador obtenga el mismo número será el ganador.\n",
    "\n",
    "<b>Salida deseada:</b><br>\n",
    "\n",
    "JUEGO DE LOS DADOS<br>\n",
    "Número a acertar: 5<br>\n",
    "Número de jugadores: 1<br>\n",
    "¡Imposible!<br>\n",
    "<br>\n",
    "JUEGO DE LOS DADOS<br>\n",
    "Número a acertar: 5<br>\n",
    "Número de jugadores: 4<br>\n",
    "Jugador 1: 3<br>\n",
    "Jugador 2: 3<br>\n",
    "Jugador 3: 5<br>\n",
    "El ganador es el Jugador 3.<br>\n",
    "<br>\n",
    "JUEGO DE LOS DADOS<br>\n",
    "Número a acertar: 5<br>\n",
    "Número de jugadores: 3<br>\n",
    "Jugador 1: 4<br>\n",
    "Jugador 2: 4<br>\n",
    "Jugador 3: 1<br>\n",
    "No existe ganadores."
   ]
  },
  {
   "cell_type": "code",
   "execution_count": 283,
   "metadata": {},
   "outputs": [
    {
     "name": "stdout",
     "output_type": "stream",
     "text": [
      "NUMERO DE LOS DADOS\n",
      "Número a acertar: 9\n",
      "Introduzca un numero del 1 al 6:3\n",
      "Número de jugadores: 8\n",
      "Jugador1 : 1 \n",
      "Jugador2 : 4 \n",
      "Jugador3 : 6 \n",
      "Jugador4 : 1 \n",
      "Jugador5 : 6 \n",
      "Jugador6 : 2 \n",
      "Jugador7 : 6 \n",
      "Jugador8 : 2 \n",
      "No existen ganadores\n"
     ]
    }
   ],
   "source": [
    "# Escriba el código aqui\n",
    "import random\n",
    "print(\"NUMERO DE LOS DADOS\")\n",
    "lista=[]\n",
    "\n",
    "na=int(input(\"Número a acertar: \"))\n",
    "while na<1 or na>7:\n",
    "    na=int(input(\"Introduzca un numero del 1 al 6:\"))\n",
    "nj=int(input(\"Número de jugadores: \"))\n",
    "\n",
    "if nj <= 1:\n",
    "    print(\"¡Imposible!\")\n",
    "else:   \n",
    "    \n",
    "    for i in range (1,nj+1):\n",
    "        rdm=random.randint(1,6)\n",
    "        print(f\"Jugador{i} : {rdm} \")\n",
    "        lista.append(rdm) \n",
    "\n",
    "    for n in lista:\n",
    "        if n==na:\n",
    "            ganador=n\n",
    "            print(f\"El ganador es el Jugador {lista.index(ganador)+1}\")\n",
    "    \n",
    "    if not na in lista:\n",
    "        print (\"No existen ganadores\")\n"
   ]
  },
  {
   "cell_type": "markdown",
   "metadata": {},
   "source": [
    "### Ejercicio 27:\n",
    "\n",
    "Escribir un programa que genere <b>una cadena de 4 caracteres aleatorios</b> que usen minúsculas y números en una variable, pregunte al usuario si desea averiguar la cadena o utilizar fuerza bruta para conseguir la contraseña correcta. En caso de usar la opción de fuerza bruta, declarar la cantidad de iteraciones utilizadas para encontrar la contraseña por fuerza bruta.\n",
    "\n",
    "<b>Salida deseada:</b><br>\n",
    "\n",
    "QUEBRAR UNA CONTRASEÑA<br>\n",
    "\n",
    "El programa generó una contraseña.<br>\n",
    "\n",
    "¿Desea adivinar la contraseña (opción a) o desea utilizar fuerza bruta (opción fb)?: a<br>\n",
    "Introduce la contraseña:  1234<br>\n",
    "¡Incorrecto!\n",
    "\n",
    "¿Desea adivinar la contraseña (opción a) o desea utilizar fuerza bruta (opción fb)?: a<br>\n",
    "Introduce la contraseña:  pass<br>\n",
    "¡Contraseña correcta!<br>\n",
    "<br>\n",
    "<br>\n",
    "QUEBRAR UNA CONTRASEÑA<br>\n",
    "\n",
    "El programa generó una contraseña.<br>\n",
    "\n",
    "¿Desea adivinar la contraseña (opción a) o desea utilizar fuerza bruta (opción fb)?: a<br>\n",
    "Introduce la contraseña:  cont<br>\n",
    "¡Incorrecto!\n",
    "\n",
    "¿Desea adivinar la contraseña (opción a) o desea utilizar fuerza bruta (opción fb)?: fb<br>\n",
    "Se realizó 3465 iteraciones para encontrar la contraseña correcta: abc5<br>\n"
   ]
  },
  {
   "cell_type": "code",
   "execution_count": 72,
   "metadata": {},
   "outputs": [
    {
     "name": "stdout",
     "output_type": "stream",
     "text": [
      "QUEBRAR UNA CONTRASEÑA\n",
      "El programa generó una contraseña.\n",
      "¿Desea adivinar la contraseña (opción a) o desea utilizar fuerza bruta (opción fb)?: a\n",
      "Introduce la contraseña: dcenvhbhw\n",
      "Incorrecto!\n"
     ]
    }
   ],
   "source": [
    "# Escriba el código aqui\n",
    "\n",
    "\n",
    "import random\n",
    "def contra(a, b, c, d):\n",
    "    mapa = ['a', 'b', 'c', 'd', 'e', 'f', 'g', 'h', 'i', 'j', 'k', 'l', 'm', 'n', 'o', 'p', 'q', 'r', 's', 't', 'u', 'v', 'w', 'x', 'y', 'z', 0, 1, 2, 3, 4, 5, 6, 7, 8, 9]\n",
    "    return str(mapa[a]) + str(mapa[b]) + str(mapa[c]) + str(mapa[d])\n",
    "c = contra(random.randint(0, 35), random.randint(0, 35), random.randint(0, 35), random.randint(0, 35))\n",
    "print(\"QUEBRAR UNA CONTRASEÑA\\nEl programa generó una contraseña.\")\n",
    "opc = input(\"¿Desea adivinar la contraseña (opción a) o desea utilizar fuerza bruta (opción fb)?: \")\n",
    "if opc == \"a\":\n",
    "    a = input(\"Introduce la contraseña: \")\n",
    "    if a != c:\n",
    "        print(\"Incorrecto!\")\n",
    "    else:\n",
    "        print(\"Contraseña correcta!\")\n",
    "elif opc == \"fb\":\n",
    "    i, i1, i2, i3, i4 = 1, 0, 0, 0, 0\n",
    "    fb = contra(i1, i2, i3, i4)\n",
    "    while fb != c:\n",
    "        i4 += 1\n",
    "        if i4 > 35:\n",
    "            i4 = 0\n",
    "            i3 += 1\n",
    "        if i3 > 35:\n",
    "            i3 = 0\n",
    "            i2 += 1\n",
    "        if i2 > 35:\n",
    "            i2 = 0\n",
    "            i1 += 1\n",
    "        fb = contra(i1, i2, i3, i4)\n",
    "        i += 1\n",
    "    print(\"Se realizó %d iteraciones para encontrar la contraseña correcta: %s\"%(i, fb))\n",
    "else:\n",
    "    print(\"hay un problema\")\n",
    "    "
   ]
  },
  {
   "cell_type": "markdown",
   "metadata": {},
   "source": [
    "### Ejercicio 28:\n",
    "\n",
    "Escriba un programa para jugar a adivinar un número (el ordenador \"piensa\" el número y el usuario tiene que adivinarlo). El programa empieza pidiendo entre qué números está el número a adivinar, se \"inventa\" un número al azar y después el usuario va probando valores y el programa va diciendo si son demasiado grandes o pequeños.\n",
    "\n",
    "<b>Salida deseada:</b><br>\n",
    "\n",
    "Valor mínimo: 0<br>\n",
    "Valor máximo: 100<br>\n",
    "Intente adivinar un número entero entre 0 y 100.<br>\n",
    "Escriba un número: 20<br>\n",
    "¡Demasiado pequeño! Inténtelo de nuevo: 30<br>\n",
    "¡Demasiado grande! Inténtelo de nuevo: 27<br>\n",
    "¡Acertó! Le ha costado 3 intentos.\n",
    "\n",
    "<b>Sugerencia:</b> puede perfeccionar este programa haciendo:\n",
    "\n",
    "* que al principio el programa se asegure de que el valor máximo es superior al valor mínimo.\n",
    "* que el programa detecte \"trampas\", por ejemplo, si al decir 25 le decimos \"mayor\" y al decir 26 le decimos \"menor\", el programa debe decirnos que estamos haciendo trampas y dejar de jugar."
   ]
  },
  {
   "cell_type": "code",
   "execution_count": 304,
   "metadata": {},
   "outputs": [
    {
     "name": "stdout",
     "output_type": "stream",
     "text": [
      "Valor mínimo: 1\n",
      "Valor màximo: 9\n",
      "Intente adivinar un número entero entre 1 y 9.\n",
      "Escriba un nùmero: 5\n",
      "¡Demasiado pequeño! Inténtelo de nuevo: 8\n",
      "¡Demasiado grande! Inténtelo de nuevo: 6\n",
      "¡Acertó! Le ha costado 3 intentos.\n"
     ]
    }
   ],
   "source": [
    "# Escriba el código aqui\n",
    "import random\n",
    "lista=[]\n",
    "vmin=int(input(\"Valor mínimo: \"))\n",
    "vmax=int(input(\"Valor màximo: \"))\n",
    "for i in range(vmin,vmax+1):\n",
    "    lista.append(i)\n",
    "va=random.choice(lista)\n",
    "\n",
    "print(f\"Intente adivinar un número entero entre {vmin} y {vmax}.\")\n",
    "num=int(input(\"Escriba un nùmero: \"))\n",
    "c=1\n",
    "while not num==va:\n",
    "    if num>va:\n",
    "        num=int(input(\"¡Demasiado grande! Inténtelo de nuevo: \"))\n",
    "        c=c+1\n",
    "    else:\n",
    "        num=int(input(\"¡Demasiado pequeño! Inténtelo de nuevo: \"))\n",
    "        c=c+1\n",
    "\n",
    "print(f\"¡Acertó! Le ha costado {c} intentos.\")      \n",
    "        \n",
    "\n"
   ]
  },
  {
   "cell_type": "markdown",
   "metadata": {},
   "source": [
    "### Ejercicio 29:\n",
    "\n",
    "Escribir un programa que pida al usuario un número entero y muestre por pantalla un triángulo rectángulo de Fibonacci.\n",
    "\n",
    "<b>Salida deseada:</b><br><br>\n",
    "Introduce la altura del triángulo (entero positivo):  7<br>\n",
    "\n",
    "1 <br>\n",
    "1 1<br>\n",
    "1 1 2<br>\n",
    "1 1 2 3<br>\n",
    "1 1 2 3 5<br>\n",
    "1 1 2 3 5 8<br>\n",
    "1 1 2 3 5 8 13<br>"
   ]
  },
  {
   "cell_type": "code",
   "execution_count": 318,
   "metadata": {},
   "outputs": [
    {
     "name": "stdout",
     "output_type": "stream",
     "text": [
      "Introduce la altura del triángulo (entero positivo):7\n",
      "1\n",
      "1 1\n",
      "1 1 2\n",
      "1 1 2 3\n",
      "1 1 2 3 5\n",
      "1 1 2 3 5 8\n",
      "1 1 2 3 5 8 13\n"
     ]
    }
   ],
   "source": [
    "# Escriba el código aqui\n",
    "n=int(input(\"Introduce la altura del triángulo (entero positivo):\"))\n",
    "\n",
    "n1= 1\n",
    "n2=0\n",
    "lista=[]\n",
    "\n",
    "if n <= 0:\n",
    "    print(\"Introduzca un numero entero positivo\")\n",
    "elif n == 1:\n",
    "    print(n1)\n",
    "else:\n",
    "    for i in range(1,n+1):\n",
    "        \n",
    "        num = n1 + n2\n",
    "        lista.append(num)\n",
    "        n1 = n2\n",
    "        n2 = num\n",
    "        print(*lista)\n"
   ]
  },
  {
   "cell_type": "markdown",
   "metadata": {},
   "source": [
    "### Ejercicio 30:\n",
    "\n",
    "Implemente un programa que sea capaz de calcular el resultado de aplicarla formula siguiente (n i)=n!/(i!\\*(n-i)!). Para ello usted debe leer un numero por teclado que debe ser mayor e igual que cero teniendo en cuenta además que n tiene que ser necesariamente mayor que i y además calcular el factorial de un número."
   ]
  },
  {
   "cell_type": "code",
   "execution_count": 52,
   "metadata": {},
   "outputs": [
    {
     "name": "stdout",
     "output_type": "stream",
     "text": [
      "Introduzca n: 4\n",
      "Introduzca i: 5\n",
      "Introduzca un numero mayor que i para n: 6\n",
      "6.0\n"
     ]
    }
   ],
   "source": [
    "# Escriba el código aqui\n",
    "\n",
    "num=int(input(\"Introduzca n: \"))\n",
    "while num<=0:\n",
    "    num=int(input(\"Introduzca un numero mayor que 0 : \"))\n",
    "    \n",
    "i=int(input(\"Introduzca i: \"))\n",
    "while num<i:\n",
    "    num=int(input(\"Introduzca un numero mayor que i para n: \"))\n",
    "ni=num-i\n",
    "\n",
    "fact1=1\n",
    "for n in range(1,num+1):\n",
    "    fact1=fact1*n   \n",
    "fact2=1\n",
    "for n in range(1,i+1):\n",
    "    fact2=fact2*n\n",
    "fact3=1\n",
    "for n in range(1,ni+1):\n",
    "    fact3=fact3*n\n",
    "formula=fact1/(fact2*fact3)\n",
    "print(formula)\n",
    "\n",
    "\n",
    "\n",
    "    \n",
    "\n",
    "\n"
   ]
  },
  {
   "cell_type": "code",
   "execution_count": null,
   "metadata": {},
   "outputs": [],
   "source": []
  }
 ],
 "metadata": {
  "kernelspec": {
   "display_name": "Python 3",
   "language": "python",
   "name": "python3"
  },
  "language_info": {
   "codemirror_mode": {
    "name": "ipython",
    "version": 3
   },
   "file_extension": ".py",
   "mimetype": "text/x-python",
   "name": "python",
   "nbconvert_exporter": "python",
   "pygments_lexer": "ipython3",
   "version": "3.7.4"
  }
 },
 "nbformat": 4,
 "nbformat_minor": 2
}

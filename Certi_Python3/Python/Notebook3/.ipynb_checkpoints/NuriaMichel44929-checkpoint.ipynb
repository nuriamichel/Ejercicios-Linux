{
 "cells": [
  {
   "cell_type": "markdown",
   "metadata": {},
   "source": [
    "EXAMEN\n",
    "\n",
    "ESTUDIANTE: NURIA LUISA MICHEL LIMACHI\n",
    "\n",
    "CODIGO: 44929\n",
    "\n",
    "FECHA: 10/03/2020"
   ]
  },
  {
   "cell_type": "markdown",
   "metadata": {},
   "source": [
    "Codigo: 01-30"
   ]
  },
  {
   "cell_type": "code",
   "execution_count": 117,
   "metadata": {},
   "outputs": [
    {
     "name": "stdout",
     "output_type": "stream",
     "text": [
      "JUEGO DE DADOS: HASTA REPETIR\n",
      "Tirada de Cubitus 6 4 6 6\n",
      "Tirada de Cubitus 1 1\n",
      "Cubitus ha sacado un 6 y Humerus ha sacado un 1\n",
      "Ha ganado Cubitus.\n"
     ]
    }
   ],
   "source": [
    "import random\n",
    "lista=[]\n",
    "print(\"JUEGO DE DADOS: HASTA REPETIR\")\n",
    "\n",
    "#tirada de Cubitus\n",
    "t1=random.randint(1,6)\n",
    "t2=random.randint(1,6)\n",
    "if t1==t2:\n",
    "    lista.append(t1)\n",
    "    lista.append(t2)\n",
    "else:\n",
    "    lista.append(t1)\n",
    "    lista.append(t2)\n",
    "    while t2!=t1:\n",
    "        t2=random.randint(1,6)\n",
    "        t1=t2\n",
    "        lista.append(t2)\n",
    "        if t2==t1:\n",
    "            lista.append(t2)\n",
    "            break\n",
    "    \n",
    "print(\"Tirada de Cubitus\",*lista)\n",
    "\n",
    "lista1=[]\n",
    "t3=random.randint(1,6)\n",
    "t4=random.randint(1,6)\n",
    "if t3==t4:\n",
    "    lista1.append(t3)\n",
    "    lista1.append(t4)\n",
    "else:\n",
    "    lista1.append(t3)\n",
    "    lista1.append(t4)\n",
    "    while t4!=t3:\n",
    "        t3=random.randint(1,6)\n",
    "        t3=t4\n",
    "        lista1.append(t4)\n",
    "        if t4==t3:\n",
    "            lista.append(t4)\n",
    "            break\n",
    "    \n",
    "print(\"Tirada de Cubitus\",*lista1)\n",
    "\n",
    "print(f\"Cubitus ha sacado un {t2} y Humerus ha sacado un {t4}\")\n",
    "\n",
    "if t2==t4:\n",
    "    print(\"Han empatado.\")\n",
    "elif t2>t4:\n",
    "    print(\"Ha ganado Cubitus.\")\n",
    "else:\n",
    "    print(\"Ha ganado Humerus\")\n",
    "\n"
   ]
  },
  {
   "cell_type": "markdown",
   "metadata": {},
   "source": [
    "Codigo: 03-30"
   ]
  },
  {
   "cell_type": "code",
   "execution_count": 124,
   "metadata": {},
   "outputs": [
    {
     "name": "stdout",
     "output_type": "stream",
     "text": [
      "El corte minimo en Bs. 22\n"
     ]
    }
   ],
   "source": [
    "import sys \n",
    "def max(a, b): \n",
    "    return a if (a > b) else b \n",
    "\n",
    "def cortar(price, n): \n",
    "    if(n <= 0): \n",
    "        return 0\n",
    "    mayor= -sys.maxsize-1 \n",
    "    for i in range(0, n): \n",
    "        mayor = max(mayor, price[i] + \n",
    "                      cortar(price, n - i - 1)) \n",
    "    return mayor \n",
    "\n",
    "arr = [1, 5, 8, 9, 10, 17, 17, 20] \n",
    "size = len(arr) \n",
    "print(\"El corte minimo en Bs.\",cortar(arr, size)) \n",
    "\n"
   ]
  },
  {
   "cell_type": "markdown",
   "metadata": {},
   "source": [
    "Codigo: 05-40"
   ]
  },
  {
   "cell_type": "code",
   "execution_count": 145,
   "metadata": {},
   "outputs": [
    {
     "name": "stdout",
     "output_type": "stream",
     "text": [
      "5\n",
      "lista 2 4 4 2 3\n",
      "Escalera 25 puntos [2, 4, 4, 2, 3]\n",
      "lista 1 6 3 1 6\n",
      "lista 5 2 6 5 3\n",
      "lista 6 1 2 1 5\n",
      "lista 1 6 2 1 3\n"
     ]
    }
   ],
   "source": [
    "e1=int(input(\"\"))\n",
    "lista=[]\n",
    "lista1=[]\n",
    "while e1>0:\n",
    "    a1=random.randint(1,6)\n",
    "    a2=random.randint(1,6)\n",
    "    a3=random.randint(1,6)\n",
    "    a4=random.randint(1,6)\n",
    "    a5=random.randint(1,6)\n",
    "    lista=[a1,a2,a3,a4,a5]\n",
    "    e1=e1-1\n",
    "    print (\"lista\",*lista)\n",
    "    \n",
    "    if i not in lista1:\n",
    "        for i in lista:\n",
    "            lista1.append(i)\n",
    "        print(\"Escalera 25 puntos\", lista1)\n",
    "    "
   ]
  },
  {
   "cell_type": "code",
   "execution_count": null,
   "metadata": {},
   "outputs": [],
   "source": []
  }
 ],
 "metadata": {
  "kernelspec": {
   "display_name": "Python 3",
   "language": "python",
   "name": "python3"
  },
  "language_info": {
   "codemirror_mode": {
    "name": "ipython",
    "version": 3
   },
   "file_extension": ".py",
   "mimetype": "text/x-python",
   "name": "python",
   "nbconvert_exporter": "python",
   "pygments_lexer": "ipython3",
   "version": "3.7.4"
  }
 },
 "nbformat": 4,
 "nbformat_minor": 2
}
